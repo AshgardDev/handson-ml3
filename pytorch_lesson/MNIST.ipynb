{
 "cells": [
  {
   "cell_type": "code",
   "id": "initial_id",
   "metadata": {
    "collapsed": true,
    "ExecuteTime": {
     "end_time": "2025-10-20T07:06:40.312896Z",
     "start_time": "2025-10-20T07:06:39.333787Z"
    }
   },
   "source": [
    "import torch\n",
    "import torch.optim as optim\n",
    "import torch.nn.functional as F\n",
    "from torchvision import datasets, transforms, models\n",
    "from torch.utils.data import DataLoader"
   ],
   "outputs": [],
   "execution_count": 1
  },
  {
   "metadata": {
    "ExecuteTime": {
     "end_time": "2025-10-20T07:06:40.338401Z",
     "start_time": "2025-10-20T07:06:40.315589Z"
    }
   },
   "cell_type": "code",
   "source": [
    "train_dataset = datasets.MNIST(root='./data', train=True, download=True, transform=transforms.ToTensor())\n",
    "test_dataset = datasets.MNIST(root='./data', train=False, download=True, transform=transforms.ToTensor())\n",
    "train_loader = DataLoader(train_dataset, batch_size=64, shuffle=True)\n",
    "test_loader = DataLoader(test_dataset, batch_size=64, shuffle=True)"
   ],
   "id": "b9901ca4a72fda83",
   "outputs": [],
   "execution_count": 2
  },
  {
   "metadata": {
    "ExecuteTime": {
     "end_time": "2025-10-20T07:06:40.391674Z",
     "start_time": "2025-10-20T07:06:40.389106Z"
    }
   },
   "cell_type": "code",
   "source": "len(train_dataset), len(test_dataset)",
   "id": "208758e3119754a3",
   "outputs": [
    {
     "data": {
      "text/plain": [
       "(60000, 10000)"
      ]
     },
     "execution_count": 3,
     "metadata": {},
     "output_type": "execute_result"
    }
   ],
   "execution_count": 3
  },
  {
   "metadata": {
    "ExecuteTime": {
     "end_time": "2025-10-20T07:06:40.488361Z",
     "start_time": "2025-10-20T07:06:40.484631Z"
    }
   },
   "cell_type": "code",
   "source": "train_dataset[0][0].shape, test_dataset[0][1]",
   "id": "473a0822ac0a286c",
   "outputs": [
    {
     "data": {
      "text/plain": [
       "(torch.Size([1, 28, 28]), 7)"
      ]
     },
     "execution_count": 4,
     "metadata": {},
     "output_type": "execute_result"
    }
   ],
   "execution_count": 4
  },
  {
   "metadata": {
    "ExecuteTime": {
     "end_time": "2025-10-20T07:06:41.894218Z",
     "start_time": "2025-10-20T07:06:41.888053Z"
    }
   },
   "cell_type": "code",
   "source": "train_dataset[0][0]",
   "id": "e0c0c2a3ae5b03e4",
   "outputs": [
    {
     "data": {
      "text/plain": [
       "tensor([[[0.0000, 0.0000, 0.0000, 0.0000, 0.0000, 0.0000, 0.0000, 0.0000,\n",
       "          0.0000, 0.0000, 0.0000, 0.0000, 0.0000, 0.0000, 0.0000, 0.0000,\n",
       "          0.0000, 0.0000, 0.0000, 0.0000, 0.0000, 0.0000, 0.0000, 0.0000,\n",
       "          0.0000, 0.0000, 0.0000, 0.0000],\n",
       "         [0.0000, 0.0000, 0.0000, 0.0000, 0.0000, 0.0000, 0.0000, 0.0000,\n",
       "          0.0000, 0.0000, 0.0000, 0.0000, 0.0000, 0.0000, 0.0000, 0.0000,\n",
       "          0.0000, 0.0000, 0.0000, 0.0000, 0.0000, 0.0000, 0.0000, 0.0000,\n",
       "          0.0000, 0.0000, 0.0000, 0.0000],\n",
       "         [0.0000, 0.0000, 0.0000, 0.0000, 0.0000, 0.0000, 0.0000, 0.0000,\n",
       "          0.0000, 0.0000, 0.0000, 0.0000, 0.0000, 0.0000, 0.0000, 0.0000,\n",
       "          0.0000, 0.0000, 0.0000, 0.0000, 0.0000, 0.0000, 0.0000, 0.0000,\n",
       "          0.0000, 0.0000, 0.0000, 0.0000],\n",
       "         [0.0000, 0.0000, 0.0000, 0.0000, 0.0000, 0.0000, 0.0000, 0.0000,\n",
       "          0.0000, 0.0000, 0.0000, 0.0000, 0.0000, 0.0000, 0.0000, 0.0000,\n",
       "          0.0000, 0.0000, 0.0000, 0.0000, 0.0000, 0.0000, 0.0000, 0.0000,\n",
       "          0.0000, 0.0000, 0.0000, 0.0000],\n",
       "         [0.0000, 0.0000, 0.0000, 0.0000, 0.0000, 0.0000, 0.0000, 0.0000,\n",
       "          0.0000, 0.0000, 0.0000, 0.0000, 0.0000, 0.0000, 0.0000, 0.0000,\n",
       "          0.0000, 0.0000, 0.0000, 0.0000, 0.0000, 0.0000, 0.0000, 0.0000,\n",
       "          0.0000, 0.0000, 0.0000, 0.0000],\n",
       "         [0.0000, 0.0000, 0.0000, 0.0000, 0.0000, 0.0000, 0.0000, 0.0000,\n",
       "          0.0000, 0.0000, 0.0000, 0.0000, 0.0118, 0.0706, 0.0706, 0.0706,\n",
       "          0.4941, 0.5333, 0.6863, 0.1020, 0.6510, 1.0000, 0.9686, 0.4980,\n",
       "          0.0000, 0.0000, 0.0000, 0.0000],\n",
       "         [0.0000, 0.0000, 0.0000, 0.0000, 0.0000, 0.0000, 0.0000, 0.0000,\n",
       "          0.1176, 0.1412, 0.3686, 0.6039, 0.6667, 0.9922, 0.9922, 0.9922,\n",
       "          0.9922, 0.9922, 0.8824, 0.6745, 0.9922, 0.9490, 0.7647, 0.2510,\n",
       "          0.0000, 0.0000, 0.0000, 0.0000],\n",
       "         [0.0000, 0.0000, 0.0000, 0.0000, 0.0000, 0.0000, 0.0000, 0.1922,\n",
       "          0.9333, 0.9922, 0.9922, 0.9922, 0.9922, 0.9922, 0.9922, 0.9922,\n",
       "          0.9922, 0.9843, 0.3647, 0.3216, 0.3216, 0.2196, 0.1529, 0.0000,\n",
       "          0.0000, 0.0000, 0.0000, 0.0000],\n",
       "         [0.0000, 0.0000, 0.0000, 0.0000, 0.0000, 0.0000, 0.0000, 0.0706,\n",
       "          0.8588, 0.9922, 0.9922, 0.9922, 0.9922, 0.9922, 0.7765, 0.7137,\n",
       "          0.9686, 0.9451, 0.0000, 0.0000, 0.0000, 0.0000, 0.0000, 0.0000,\n",
       "          0.0000, 0.0000, 0.0000, 0.0000],\n",
       "         [0.0000, 0.0000, 0.0000, 0.0000, 0.0000, 0.0000, 0.0000, 0.0000,\n",
       "          0.3137, 0.6118, 0.4196, 0.9922, 0.9922, 0.8039, 0.0431, 0.0000,\n",
       "          0.1686, 0.6039, 0.0000, 0.0000, 0.0000, 0.0000, 0.0000, 0.0000,\n",
       "          0.0000, 0.0000, 0.0000, 0.0000],\n",
       "         [0.0000, 0.0000, 0.0000, 0.0000, 0.0000, 0.0000, 0.0000, 0.0000,\n",
       "          0.0000, 0.0549, 0.0039, 0.6039, 0.9922, 0.3529, 0.0000, 0.0000,\n",
       "          0.0000, 0.0000, 0.0000, 0.0000, 0.0000, 0.0000, 0.0000, 0.0000,\n",
       "          0.0000, 0.0000, 0.0000, 0.0000],\n",
       "         [0.0000, 0.0000, 0.0000, 0.0000, 0.0000, 0.0000, 0.0000, 0.0000,\n",
       "          0.0000, 0.0000, 0.0000, 0.5451, 0.9922, 0.7451, 0.0078, 0.0000,\n",
       "          0.0000, 0.0000, 0.0000, 0.0000, 0.0000, 0.0000, 0.0000, 0.0000,\n",
       "          0.0000, 0.0000, 0.0000, 0.0000],\n",
       "         [0.0000, 0.0000, 0.0000, 0.0000, 0.0000, 0.0000, 0.0000, 0.0000,\n",
       "          0.0000, 0.0000, 0.0000, 0.0431, 0.7451, 0.9922, 0.2745, 0.0000,\n",
       "          0.0000, 0.0000, 0.0000, 0.0000, 0.0000, 0.0000, 0.0000, 0.0000,\n",
       "          0.0000, 0.0000, 0.0000, 0.0000],\n",
       "         [0.0000, 0.0000, 0.0000, 0.0000, 0.0000, 0.0000, 0.0000, 0.0000,\n",
       "          0.0000, 0.0000, 0.0000, 0.0000, 0.1373, 0.9451, 0.8824, 0.6275,\n",
       "          0.4235, 0.0039, 0.0000, 0.0000, 0.0000, 0.0000, 0.0000, 0.0000,\n",
       "          0.0000, 0.0000, 0.0000, 0.0000],\n",
       "         [0.0000, 0.0000, 0.0000, 0.0000, 0.0000, 0.0000, 0.0000, 0.0000,\n",
       "          0.0000, 0.0000, 0.0000, 0.0000, 0.0000, 0.3176, 0.9412, 0.9922,\n",
       "          0.9922, 0.4667, 0.0980, 0.0000, 0.0000, 0.0000, 0.0000, 0.0000,\n",
       "          0.0000, 0.0000, 0.0000, 0.0000],\n",
       "         [0.0000, 0.0000, 0.0000, 0.0000, 0.0000, 0.0000, 0.0000, 0.0000,\n",
       "          0.0000, 0.0000, 0.0000, 0.0000, 0.0000, 0.0000, 0.1765, 0.7294,\n",
       "          0.9922, 0.9922, 0.5882, 0.1059, 0.0000, 0.0000, 0.0000, 0.0000,\n",
       "          0.0000, 0.0000, 0.0000, 0.0000],\n",
       "         [0.0000, 0.0000, 0.0000, 0.0000, 0.0000, 0.0000, 0.0000, 0.0000,\n",
       "          0.0000, 0.0000, 0.0000, 0.0000, 0.0000, 0.0000, 0.0000, 0.0627,\n",
       "          0.3647, 0.9882, 0.9922, 0.7333, 0.0000, 0.0000, 0.0000, 0.0000,\n",
       "          0.0000, 0.0000, 0.0000, 0.0000],\n",
       "         [0.0000, 0.0000, 0.0000, 0.0000, 0.0000, 0.0000, 0.0000, 0.0000,\n",
       "          0.0000, 0.0000, 0.0000, 0.0000, 0.0000, 0.0000, 0.0000, 0.0000,\n",
       "          0.0000, 0.9765, 0.9922, 0.9765, 0.2510, 0.0000, 0.0000, 0.0000,\n",
       "          0.0000, 0.0000, 0.0000, 0.0000],\n",
       "         [0.0000, 0.0000, 0.0000, 0.0000, 0.0000, 0.0000, 0.0000, 0.0000,\n",
       "          0.0000, 0.0000, 0.0000, 0.0000, 0.0000, 0.0000, 0.1804, 0.5098,\n",
       "          0.7176, 0.9922, 0.9922, 0.8118, 0.0078, 0.0000, 0.0000, 0.0000,\n",
       "          0.0000, 0.0000, 0.0000, 0.0000],\n",
       "         [0.0000, 0.0000, 0.0000, 0.0000, 0.0000, 0.0000, 0.0000, 0.0000,\n",
       "          0.0000, 0.0000, 0.0000, 0.0000, 0.1529, 0.5804, 0.8980, 0.9922,\n",
       "          0.9922, 0.9922, 0.9804, 0.7137, 0.0000, 0.0000, 0.0000, 0.0000,\n",
       "          0.0000, 0.0000, 0.0000, 0.0000],\n",
       "         [0.0000, 0.0000, 0.0000, 0.0000, 0.0000, 0.0000, 0.0000, 0.0000,\n",
       "          0.0000, 0.0000, 0.0941, 0.4471, 0.8667, 0.9922, 0.9922, 0.9922,\n",
       "          0.9922, 0.7882, 0.3059, 0.0000, 0.0000, 0.0000, 0.0000, 0.0000,\n",
       "          0.0000, 0.0000, 0.0000, 0.0000],\n",
       "         [0.0000, 0.0000, 0.0000, 0.0000, 0.0000, 0.0000, 0.0000, 0.0000,\n",
       "          0.0902, 0.2588, 0.8353, 0.9922, 0.9922, 0.9922, 0.9922, 0.7765,\n",
       "          0.3176, 0.0078, 0.0000, 0.0000, 0.0000, 0.0000, 0.0000, 0.0000,\n",
       "          0.0000, 0.0000, 0.0000, 0.0000],\n",
       "         [0.0000, 0.0000, 0.0000, 0.0000, 0.0000, 0.0000, 0.0706, 0.6706,\n",
       "          0.8588, 0.9922, 0.9922, 0.9922, 0.9922, 0.7647, 0.3137, 0.0353,\n",
       "          0.0000, 0.0000, 0.0000, 0.0000, 0.0000, 0.0000, 0.0000, 0.0000,\n",
       "          0.0000, 0.0000, 0.0000, 0.0000],\n",
       "         [0.0000, 0.0000, 0.0000, 0.0000, 0.2157, 0.6745, 0.8863, 0.9922,\n",
       "          0.9922, 0.9922, 0.9922, 0.9569, 0.5216, 0.0431, 0.0000, 0.0000,\n",
       "          0.0000, 0.0000, 0.0000, 0.0000, 0.0000, 0.0000, 0.0000, 0.0000,\n",
       "          0.0000, 0.0000, 0.0000, 0.0000],\n",
       "         [0.0000, 0.0000, 0.0000, 0.0000, 0.5333, 0.9922, 0.9922, 0.9922,\n",
       "          0.8314, 0.5294, 0.5176, 0.0627, 0.0000, 0.0000, 0.0000, 0.0000,\n",
       "          0.0000, 0.0000, 0.0000, 0.0000, 0.0000, 0.0000, 0.0000, 0.0000,\n",
       "          0.0000, 0.0000, 0.0000, 0.0000],\n",
       "         [0.0000, 0.0000, 0.0000, 0.0000, 0.0000, 0.0000, 0.0000, 0.0000,\n",
       "          0.0000, 0.0000, 0.0000, 0.0000, 0.0000, 0.0000, 0.0000, 0.0000,\n",
       "          0.0000, 0.0000, 0.0000, 0.0000, 0.0000, 0.0000, 0.0000, 0.0000,\n",
       "          0.0000, 0.0000, 0.0000, 0.0000],\n",
       "         [0.0000, 0.0000, 0.0000, 0.0000, 0.0000, 0.0000, 0.0000, 0.0000,\n",
       "          0.0000, 0.0000, 0.0000, 0.0000, 0.0000, 0.0000, 0.0000, 0.0000,\n",
       "          0.0000, 0.0000, 0.0000, 0.0000, 0.0000, 0.0000, 0.0000, 0.0000,\n",
       "          0.0000, 0.0000, 0.0000, 0.0000],\n",
       "         [0.0000, 0.0000, 0.0000, 0.0000, 0.0000, 0.0000, 0.0000, 0.0000,\n",
       "          0.0000, 0.0000, 0.0000, 0.0000, 0.0000, 0.0000, 0.0000, 0.0000,\n",
       "          0.0000, 0.0000, 0.0000, 0.0000, 0.0000, 0.0000, 0.0000, 0.0000,\n",
       "          0.0000, 0.0000, 0.0000, 0.0000]]])"
      ]
     },
     "execution_count": 5,
     "metadata": {},
     "output_type": "execute_result"
    }
   ],
   "execution_count": 5
  },
  {
   "metadata": {
    "ExecuteTime": {
     "end_time": "2025-10-17T06:43:25.600165Z",
     "start_time": "2025-10-17T06:43:25.567015Z"
    }
   },
   "cell_type": "code",
   "source": [
    "import matplotlib.pyplot as plt\n",
    "plt.figure()\n",
    "plt.imshow(train_dataset[0][0].numpy().reshape(28, 28), cmap=plt.get_cmap('gray'))\n",
    "plt.title(f'MNIST Dataset lable={train_dataset[0][1]}')\n",
    "plt.axis('off')\n",
    "plt.show()"
   ],
   "id": "f14d17494e64cea5",
   "outputs": [
    {
     "data": {
      "text/plain": [
       "<Figure size 640x480 with 1 Axes>"
      ],
      "image/png": "[encoded data removed]"
     },
     "metadata": {},
     "output_type": "display_data"
    }
   ],
   "execution_count": 18
  },
  {
   "metadata": {
    "ExecuteTime": {
     "end_time": "2025-10-23T01:16:23.162901Z",
     "start_time": "2025-10-23T01:14:03.756305Z"
    }
   },
   "cell_type": "code",
   "source": [
    "import numpy as np\n",
    "import torch\n",
    "import torch.nn as nn\n",
    "from tqdm import tqdm\n",
    "\n",
    "# x_train = np.load('./mnist/x_train.npy')\n",
    "# y_train = np.load('./mnist/y_train_label.npy')\n",
    "# print(x_train.shape)\n",
    "\n",
    "class Unet(torch.nn.Module):\n",
    "    def __init__(self):\n",
    "        super(Unet, self).__init__()\n",
    "        # 模块化结构，这也是后面常用到的模型结构\n",
    "        self.first_block_down = torch.nn.Sequential(\n",
    "            torch.nn.Conv2d(in_channels=1, out_channels=32, kernel_size=3, padding=1), torch.nn.GELU(),\n",
    "            torch.nn.MaxPool2d(kernel_size=2, stride=2)\n",
    "        )\n",
    "\n",
    "        self.second_block_down = torch.nn.Sequential(\n",
    "            torch.nn.Conv2d(in_channels=32, out_channels=64, kernel_size=3, padding=1), torch.nn.GELU(),\n",
    "            torch.nn.MaxPool2d(kernel_size=2, stride=2)\n",
    "        )\n",
    "\n",
    "        self.latent_space_block = torch.nn.Sequential(\n",
    "            torch.nn.Conv2d(in_channels=64, out_channels=128, kernel_size=3, padding=1), torch.nn.GELU(),\n",
    "        )\n",
    "\n",
    "        self.second_block_up = torch.nn.Sequential(\n",
    "            torch.nn.Upsample(scale_factor=2),\n",
    "            torch.nn.Conv2d(in_channels=128, out_channels=64, kernel_size=3, padding=1), torch.nn.GELU(),\n",
    "        )\n",
    "\n",
    "        self.first_block_up = torch.nn.Sequential(\n",
    "            torch.nn.Upsample(scale_factor=2),\n",
    "            torch.nn.Conv2d(in_channels=64, out_channels=32, kernel_size=3, padding=1), torch.nn.GELU(),\n",
    "        )\n",
    "\n",
    "        # self.convUP_end = torch.nn.Sequential(\n",
    "        #     torch.nn.Conv2d(in_channels=32, out_channels=1, kernel_size=3, padding=1),\n",
    "        #     torch.nn.Tanh()\n",
    "        # )\n",
    "        # 最后的特征整合（不再输出图像，而是分类向量）\n",
    "        self.global_pool = nn.AdaptiveAvgPool2d(1)  # 输出 [B, 32, 1, 1]\n",
    "        self.fc = nn.Linear(32, 10)        # 分类层\n",
    "\n",
    "    def forward(self,img_tensor):\n",
    "        image = img_tensor\n",
    "        image = self.first_block_down(image)\n",
    "        image = self.second_block_down(image)\n",
    "        image = self.latent_space_block(image)\n",
    "\n",
    "        image = self.second_block_up(image)\n",
    "        image = self.first_block_up(image)\n",
    "\n",
    "        # image = self.convUP_end(image)\n",
    "        # Global Pool + FC 分类\n",
    "        pooled = self.global_pool(image)            # [B, 32, 1, 1]\n",
    "        flattened = pooled.view(pooled.size(0), -1) # [B, 32]\n",
    "        logits = self.fc(flattened)                 # [B, num_classes]\n",
    "        return logits\n",
    "\n",
    "\n",
    "from torch.utils.tensorboard import SummaryWriter\n",
    "writer = SummaryWriter()\n",
    "\n",
    "unet = Unet()\n",
    "device = torch.device('mps')\n",
    "unet.to(device)\n",
    "unet = torch.compile(unet)\n",
    "criterion = torch.nn.CrossEntropyLoss()\n",
    "optimizer = torch.optim.Adam(unet.parameters(), lr=0.001)\n",
    "for epoch in range(20):\n",
    "    running_loss = 0.0\n",
    "    for data in tqdm(train_loader, desc='Training epoch {}'.format(epoch+1)):\n",
    "        batch = len(data)\n",
    "        inputs, labels = data\n",
    "        inputs = inputs.to(device)\n",
    "        labels = labels.to(device)\n",
    "        optimizer.zero_grad()\n",
    "        outputs = unet(inputs)\n",
    "        loss = criterion(outputs, labels)\n",
    "        loss.backward()\n",
    "        optimizer.step()\n",
    "        running_loss += loss.item()\n",
    "    writer.add_scalar('loss', running_loss, epoch)\n",
    "    print('[%d] loss: %.3f' % (epoch + 1, running_loss))\n",
    "\n",
    "\n",
    "writer.close()"
   ],
   "id": "1fb402a334b4973b",
   "outputs": [
    {
     "name": "stderr",
     "output_type": "stream",
     "text": [
      "Training epoch 1:  99%|█████████▉| 933/938 [00:07<00:00, 127.44it/s]/opt/miniconda3/envs/homl3/lib/python3.10/site-packages/torch/autograd/graph.py:829: UserWarning: Error detected in MaxPool2DBackward0. Traceback of forward call that caused the error:\n",
      "  File \"/var/folders/kw/ysl7ggsn6wz6r9ms_r7scdgh0000gn/T/ipykernel_5795/3685460515.py\", line 49, in forward\n",
      "    image = self.second_block_down(image)\n",
      " (Triggered internally at /Users/runner/work/pytorch/pytorch/pytorch/torch/csrc/autograd/python_anomaly_mode.cpp:127.)\n",
      "  return Variable._execution_engine.run_backward(  # Calls into the C++ engine to run the backward pass\n",
      "W1023 09:14:11.641000 5795 site-packages/torch/_dynamo/exc.py:525] [23/1] Backend compiler exception\n",
      "W1023 09:14:11.641000 5795 site-packages/torch/_dynamo/exc.py:525] [23/1]   Explanation: Backend compiler `inductor` failed with aten.max_pool2d_backward.default. Adding a graph break.\n",
      "W1023 09:14:11.641000 5795 site-packages/torch/_dynamo/exc.py:525] [23/1]   Hint: Report an issue to the backend compiler repo.\n",
      "W1023 09:14:11.641000 5795 site-packages/torch/_dynamo/exc.py:525] [23/1] \n",
      "W1023 09:14:11.641000 5795 site-packages/torch/_dynamo/exc.py:525] [23/1]   Developer debug context: Backend: inductor\n",
      "W1023 09:14:11.641000 5795 site-packages/torch/_dynamo/exc.py:525] [23/1]     Exception:aten.max_pool2d_backward.default\n",
      "W1023 09:14:11.641000 5795 site-packages/torch/_dynamo/exc.py:525] [23/1]     Traceback:\n",
      "W1023 09:14:11.641000 5795 site-packages/torch/_dynamo/exc.py:525] [23/1]       File \"/var/folders/kw/ysl7ggsn6wz6r9ms_r7scdgh0000gn/T/ipykernel_5795/3685460515.py\", line 60, in forward\n",
      "W1023 09:14:11.641000 5795 site-packages/torch/_dynamo/exc.py:525] [23/1]         return logits\n",
      "W1023 09:14:11.641000 5795 site-packages/torch/_dynamo/exc.py:525] [23/1] \n",
      "W1023 09:14:11.641000 5795 site-packages/torch/_dynamo/exc.py:525] [23/1] \n",
      "/opt/miniconda3/envs/homl3/lib/python3.10/site-packages/torch/autograd/graph.py:829: UserWarning: Error detected in MaxPool2DBackward0. Traceback of forward call that caused the error:\n",
      "  File \"/var/folders/kw/ysl7ggsn6wz6r9ms_r7scdgh0000gn/T/ipykernel_5795/3685460515.py\", line 49, in forward\n",
      "    image = self.second_block_down(image)\n",
      " (Triggered internally at /Users/runner/work/pytorch/pytorch/pytorch/torch/csrc/autograd/python_anomaly_mode.cpp:127.)\n",
      "  return Variable._execution_engine.run_backward(  # Calls into the C++ engine to run the backward pass\n",
      "W1023 09:14:11.849000 5795 site-packages/torch/_dynamo/exc.py:525] [23/1_1] Backend compiler exception\n",
      "W1023 09:14:11.849000 5795 site-packages/torch/_dynamo/exc.py:525] [23/1_1]   Explanation: Backend compiler `inductor` failed with aten.max_pool2d_backward.default. Adding a graph break.\n",
      "W1023 09:14:11.849000 5795 site-packages/torch/_dynamo/exc.py:525] [23/1_1]   Hint: Report an issue to the backend compiler repo.\n",
      "W1023 09:14:11.849000 5795 site-packages/torch/_dynamo/exc.py:525] [23/1_1] \n",
      "W1023 09:14:11.849000 5795 site-packages/torch/_dynamo/exc.py:525] [23/1_1]   Developer debug context: Backend: inductor\n",
      "W1023 09:14:11.849000 5795 site-packages/torch/_dynamo/exc.py:525] [23/1_1]     Exception:aten.max_pool2d_backward.default\n",
      "W1023 09:14:11.849000 5795 site-packages/torch/_dynamo/exc.py:525] [23/1_1]     Traceback:\n",
      "W1023 09:14:11.849000 5795 site-packages/torch/_dynamo/exc.py:525] [23/1_1]       File \"/var/folders/kw/ysl7ggsn6wz6r9ms_r7scdgh0000gn/T/ipykernel_5795/3685460515.py\", line 60, in forward\n",
      "W1023 09:14:11.849000 5795 site-packages/torch/_dynamo/exc.py:525] [23/1_1]         return logits\n",
      "W1023 09:14:11.849000 5795 site-packages/torch/_dynamo/exc.py:525] [23/1_1] \n",
      "W1023 09:14:11.849000 5795 site-packages/torch/_dynamo/exc.py:525] [23/1_1] \n",
      "Training epoch 1: 100%|██████████| 938/938 [00:08<00:00, 116.00it/s]\n"
     ]
    },
    {
     "name": "stdout",
     "output_type": "stream",
     "text": [
      "[1] loss: 499.538\n"
     ]
    },
    {
     "name": "stderr",
     "output_type": "stream",
     "text": [
      "Training epoch 2: 100%|██████████| 938/938 [00:06<00:00, 136.64it/s]\n"
     ]
    },
    {
     "name": "stdout",
     "output_type": "stream",
     "text": [
      "[2] loss: 121.714\n"
     ]
    },
    {
     "name": "stderr",
     "output_type": "stream",
     "text": [
      "Training epoch 3: 100%|██████████| 938/938 [00:06<00:00, 137.07it/s]\n"
     ]
    },
    {
     "name": "stdout",
     "output_type": "stream",
     "text": [
      "[3] loss: 75.392\n"
     ]
    },
    {
     "name": "stderr",
     "output_type": "stream",
     "text": [
      "Training epoch 4: 100%|██████████| 938/938 [00:06<00:00, 136.18it/s]\n"
     ]
    },
    {
     "name": "stdout",
     "output_type": "stream",
     "text": [
      "[4] loss: 57.534\n"
     ]
    },
    {
     "name": "stderr",
     "output_type": "stream",
     "text": [
      "Training epoch 5: 100%|██████████| 938/938 [00:06<00:00, 137.31it/s]\n"
     ]
    },
    {
     "name": "stdout",
     "output_type": "stream",
     "text": [
      "[5] loss: 45.118\n"
     ]
    },
    {
     "name": "stderr",
     "output_type": "stream",
     "text": [
      "Training epoch 6: 100%|██████████| 938/938 [00:06<00:00, 135.00it/s]\n"
     ]
    },
    {
     "name": "stdout",
     "output_type": "stream",
     "text": [
      "[6] loss: 38.731\n"
     ]
    },
    {
     "name": "stderr",
     "output_type": "stream",
     "text": [
      "Training epoch 7: 100%|██████████| 938/938 [00:06<00:00, 136.23it/s]\n"
     ]
    },
    {
     "name": "stdout",
     "output_type": "stream",
     "text": [
      "[7] loss: 29.814\n"
     ]
    },
    {
     "name": "stderr",
     "output_type": "stream",
     "text": [
      "Training epoch 8: 100%|██████████| 938/938 [00:06<00:00, 136.34it/s]\n"
     ]
    },
    {
     "name": "stdout",
     "output_type": "stream",
     "text": [
      "[8] loss: 27.778\n"
     ]
    },
    {
     "name": "stderr",
     "output_type": "stream",
     "text": [
      "Training epoch 9: 100%|██████████| 938/938 [00:06<00:00, 135.86it/s]\n"
     ]
    },
    {
     "name": "stdout",
     "output_type": "stream",
     "text": [
      "[9] loss: 22.526\n"
     ]
    },
    {
     "name": "stderr",
     "output_type": "stream",
     "text": [
      "Training epoch 10: 100%|██████████| 938/938 [00:06<00:00, 135.92it/s]\n"
     ]
    },
    {
     "name": "stdout",
     "output_type": "stream",
     "text": [
      "[10] loss: 18.482\n"
     ]
    },
    {
     "name": "stderr",
     "output_type": "stream",
     "text": [
      "Training epoch 11: 100%|██████████| 938/938 [00:06<00:00, 134.61it/s]\n"
     ]
    },
    {
     "name": "stdout",
     "output_type": "stream",
     "text": [
      "[11] loss: 16.652\n"
     ]
    },
    {
     "name": "stderr",
     "output_type": "stream",
     "text": [
      "Training epoch 12: 100%|██████████| 938/938 [00:06<00:00, 135.52it/s]\n"
     ]
    },
    {
     "name": "stdout",
     "output_type": "stream",
     "text": [
      "[12] loss: 14.759\n"
     ]
    },
    {
     "name": "stderr",
     "output_type": "stream",
     "text": [
      "Training epoch 13: 100%|██████████| 938/938 [00:06<00:00, 135.44it/s]\n"
     ]
    },
    {
     "name": "stdout",
     "output_type": "stream",
     "text": [
      "[13] loss: 12.962\n"
     ]
    },
    {
     "name": "stderr",
     "output_type": "stream",
     "text": [
      "Training epoch 14: 100%|██████████| 938/938 [00:06<00:00, 135.37it/s]\n"
     ]
    },
    {
     "name": "stdout",
     "output_type": "stream",
     "text": [
      "[14] loss: 10.808\n"
     ]
    },
    {
     "name": "stderr",
     "output_type": "stream",
     "text": [
      "Training epoch 15: 100%|██████████| 938/938 [00:06<00:00, 134.62it/s]\n"
     ]
    },
    {
     "name": "stdout",
     "output_type": "stream",
     "text": [
      "[15] loss: 11.351\n"
     ]
    },
    {
     "name": "stderr",
     "output_type": "stream",
     "text": [
      "Training epoch 16: 100%|██████████| 938/938 [00:06<00:00, 135.46it/s]\n"
     ]
    },
    {
     "name": "stdout",
     "output_type": "stream",
     "text": [
      "[16] loss: 8.980\n"
     ]
    },
    {
     "name": "stderr",
     "output_type": "stream",
     "text": [
      "Training epoch 17: 100%|██████████| 938/938 [00:06<00:00, 135.55it/s]\n"
     ]
    },
    {
     "name": "stdout",
     "output_type": "stream",
     "text": [
      "[17] loss: 8.666\n"
     ]
    },
    {
     "name": "stderr",
     "output_type": "stream",
     "text": [
      "Training epoch 18: 100%|██████████| 938/938 [00:06<00:00, 135.40it/s]\n"
     ]
    },
    {
     "name": "stdout",
     "output_type": "stream",
     "text": [
      "[18] loss: 6.311\n"
     ]
    },
    {
     "name": "stderr",
     "output_type": "stream",
     "text": [
      "Training epoch 19: 100%|██████████| 938/938 [00:06<00:00, 135.26it/s]\n"
     ]
    },
    {
     "name": "stdout",
     "output_type": "stream",
     "text": [
      "[19] loss: 7.640\n"
     ]
    },
    {
     "name": "stderr",
     "output_type": "stream",
     "text": [
      "Training epoch 20: 100%|██████████| 938/938 [00:06<00:00, 135.53it/s]"
     ]
    },
    {
     "name": "stdout",
     "output_type": "stream",
     "text": [
      "[20] loss: 5.563\n"
     ]
    },
    {
     "name": "stderr",
     "output_type": "stream",
     "text": [
      "\n"
     ]
    }
   ],
   "execution_count": 73
  },
  {
   "metadata": {
    "ExecuteTime": {
     "end_time": "2025-10-20T08:08:56.652954Z",
     "start_time": "2025-10-20T08:08:56.052284Z"
    }
   },
   "cell_type": "code",
   "source": [
    "unet.eval()\n",
    "correct = 0\n",
    "total = 0\n",
    "with torch.no_grad():\n",
    "    for data in test_loader:\n",
    "        inputs, labels = data\n",
    "        inputs = inputs.to(device)\n",
    "        labels = labels.to(device)\n",
    "        outputs = unet(inputs)\n",
    "        _, predicted = torch.max(outputs, 1)\n",
    "        total += labels.size(0)\n",
    "        correct += predicted.eq(labels).sum().item()\n",
    "    print('Accuracy of the network on the test images: %d %%' % (100 * correct / total))"
   ],
   "id": "fb741cb0c91133d0",
   "outputs": [
    {
     "name": "stdout",
     "output_type": "stream",
     "text": [
      "Accuracy of the network on the test images: 99 %\n"
     ]
    }
   ],
   "execution_count": 44
  },
  {
   "metadata": {
    "ExecuteTime": {
     "end_time": "2025-10-20T08:09:03.967896Z",
     "start_time": "2025-10-20T08:09:01.770982Z"
    }
   },
   "cell_type": "code",
   "source": [
    "from matplotlib import pyplot as plt\n",
    "it = iter(test_dataset)\n",
    "rows = 7\n",
    "cols = 7\n",
    "# plt.figure()\n",
    "for i in range(rows * cols):\n",
    "    image, y_true = next(it)\n",
    "    image = torch.unsqueeze(image, dim=0)\n",
    "    image = image.to(device)\n",
    "    unet.eval()\n",
    "    output = unet(image)\n",
    "    _, predicted = torch.max(output, 1)\n",
    "    y_pred = predicted.item()\n",
    "    plt.subplot(rows, cols, i+1)\n",
    "    img = image.detach().squeeze(0).cpu().numpy()\n",
    "    img = np.transpose(img, (1, 2, 0))\n",
    "    plt.imshow(img, cmap=plt.get_cmap('gray'))\n",
    "    if y_true == y_pred:\n",
    "        plt.title(f\"{y_true}, {y_pred}\")\n",
    "    else:\n",
    "        plt.title(f\"{y_true}, {y_pred}\", color='red')\n",
    "    plt.axis('off')\n",
    "    plt.tight_layout()\n",
    "plt.show()"
   ],
   "id": "e75127bb4ffa1f27",
   "outputs": [
    {
     "data": {
      "text/plain": [
       "<Figure size 640x480 with 49 Axes>"
      ],
      "image/png": "[encoded data removed]"
     },
     "metadata": {},
     "output_type": "display_data"
    }
   ],
   "execution_count": 45
  },
  {
   "metadata": {
    "ExecuteTime": {
     "end_time": "2025-10-20T06:58:30.147619Z",
     "start_time": "2025-10-20T06:58:30.140828Z"
    }
   },
   "cell_type": "code",
   "source": [
    "import torch.nn as nn\n",
    "up = nn.Upsample(scale_factor=2)\n",
    "for images, targets in test_loader:\n",
    "    up_x = up(images)\n",
    "    print(images.shape, up_x.shape)\n",
    "    break"
   ],
   "id": "f319f3e252edab00",
   "outputs": [
    {
     "name": "stdout",
     "output_type": "stream",
     "text": [
      "torch.Size([64, 1, 28, 28]) torch.Size([64, 1, 56, 56])\n"
     ]
    }
   ],
   "execution_count": 44
  },
  {
   "metadata": {},
   "cell_type": "code",
   "outputs": [],
   "execution_count": null,
   "source": "",
   "id": "28653e24d597f108"
  },
  {
   "metadata": {},
   "cell_type": "code",
   "outputs": [],
   "execution_count": null,
   "source": "",
   "id": "d697e401ba1d9ddd"
  },
  {
   "metadata": {},
   "cell_type": "markdown",
   "source": [
    "非常好的问题 👍\n",
    "`nn.AdaptiveAvgPool2d(1)` 是一个在卷积网络中**非常常见的层**，\n",
    "它的作用是 ——\n",
    "👉 **无论输入的高宽是多少，都输出一个固定大小的特征图**（这里是 `1×1`）。\n",
    "\n",
    "---\n",
    "\n",
    "## 🧩 一句话解释\n",
    "\n",
    "> `AdaptiveAvgPool2d(1)` 会对每个通道独立地取 **全局平均值**，\n",
    "> 最后输出形状是 `[B, C, 1, 1]`。\n",
    "\n",
    "这其实就是 **Global Average Pooling（GAP）** 的实现。\n",
    "\n",
    "---\n",
    "\n",
    "## 🧠 举个例子\n",
    "\n",
    "假设输入：\n",
    "\n",
    "```python\n",
    "x.shape = [B, C, H, W] = [4, 32, 28, 28]\n",
    "```\n",
    "\n",
    "然后执行：\n",
    "\n",
    "```python\n",
    "pool = nn.AdaptiveAvgPool2d(1)\n",
    "y = pool(x)\n",
    "```\n",
    "\n",
    "输出：\n",
    "\n",
    "```\n",
    "y.shape = [4, 32, 1, 1]\n",
    "```\n",
    "\n",
    "计算方式：\n",
    "每个通道 `c` 的输出就是：\n",
    "[\n",
    "y_{b,c,0,0} = \\frac{1}{H \\times W} \\sum_{i=1}^{H} \\sum_{j=1}^{W} x_{b,c,i,j}\n",
    "]\n",
    "\n",
    "也就是说，对每个通道取平均值，保留“全局语义特征”，去掉空间信息。\n",
    "\n",
    "---\n",
    "\n",
    "## 🧮 举个小例子（数值）\n",
    "\n",
    "```python\n",
    "import torch\n",
    "import torch.nn as nn\n",
    "\n",
    "x = torch.tensor([\n",
    "    [[[1., 2.],\n",
    "      [3., 4.]]]\n",
    "])  # shape [1, 1, 2, 2]\n",
    "\n",
    "pool = nn.AdaptiveAvgPool2d(1)\n",
    "y = pool(x)\n",
    "print(y)\n",
    "```\n",
    "\n",
    "输出：\n",
    "\n",
    "```\n",
    "tensor([[[[2.5]]]])\n",
    "```\n",
    "\n",
    "因为 `(1+2+3+4)/4 = 2.5`。\n",
    "\n",
    "---\n",
    "\n",
    "## 🎯 应用场景\n",
    "\n",
    "| 场景                           | 说明                                       |\n",
    "| ---------------------------- | ---------------------------------------- |\n",
    "| ✅ **分类任务**                   | 取整个特征图的平均作为全局特征，再接 `nn.Linear` 分类。       |\n",
    "| 🧱 **ResNet / EfficientNet** | 都在最后一层卷积后使用 GAP 代替 Flatten。              |\n",
    "| 🔄 **对不固定尺寸输入**              | 不管输入图像多大，最后都能变成 `[B, C, 1, 1]`，方便全连接层输入。 |\n",
    "\n",
    "---\n",
    "\n",
    "## 🔄 与 AvgPool2d 的区别\n",
    "\n",
    "| 项目   | `AvgPool2d`    | `AdaptiveAvgPool2d` |\n",
    "| ---- | -------------- | ------------------- |\n",
    "| 池化窗口 | 固定大小（如 2×2）    | 自动计算（根据目标输出）        |\n",
    "| 输出大小 | 由输入和 kernel 决定 | 由参数指定（例如 1×1）       |\n",
    "| 典型用途 | 局部降采样          | 全局特征提取              |\n",
    "\n",
    "---\n",
    "\n",
    "## 🧩 在分类网络中的典型结构\n",
    "\n",
    "```python\n",
    "x = conv_features  # [B, C, H, W]\n",
    "x = nn.AdaptiveAvgPool2d(1)(x)  # [B, C, 1, 1]\n",
    "x = x.view(B, C)                 # [B, C]\n",
    "x = nn.Linear(C, num_classes)(x) # [B, num_classes]\n",
    "```\n",
    "\n",
    "---\n",
    "\n",
    "是否希望我帮你画一个小图（卷积特征图 → GAP → FC 分类的流程图）？这能更直观地看到为什么它能把整张图“压成一个向量”。\n"
   ],
   "id": "4c503283e67f4f15"
  },
  {
   "metadata": {
    "ExecuteTime": {
     "end_time": "2025-10-20T08:28:19.468516Z",
     "start_time": "2025-10-20T08:28:19.465107Z"
    }
   },
   "cell_type": "code",
   "source": [
    "import torch.nn.functional as F\n",
    "targets = torch.tensor([\n",
    "    1, 3, 4, 8, 2, 6, 9, 0\n",
    "])\n",
    "targets = F.one_hot(targets, 10)\n",
    "print(targets)"
   ],
   "id": "83a027ea9bf7ec61",
   "outputs": [
    {
     "name": "stdout",
     "output_type": "stream",
     "text": [
      "tensor([[0, 1, 0, 0, 0, 0, 0, 0, 0, 0],\n",
      "        [0, 0, 0, 1, 0, 0, 0, 0, 0, 0],\n",
      "        [0, 0, 0, 0, 1, 0, 0, 0, 0, 0],\n",
      "        [0, 0, 0, 0, 0, 0, 0, 0, 1, 0],\n",
      "        [0, 0, 1, 0, 0, 0, 0, 0, 0, 0],\n",
      "        [0, 0, 0, 0, 0, 0, 1, 0, 0, 0],\n",
      "        [0, 0, 0, 0, 0, 0, 0, 0, 0, 1],\n",
      "        [1, 0, 0, 0, 0, 0, 0, 0, 0, 0]])\n"
     ]
    }
   ],
   "execution_count": 63
  },
  {
   "metadata": {
    "ExecuteTime": {
     "end_time": "2025-10-20T08:27:40.175843Z",
     "start_time": "2025-10-20T08:27:40.172912Z"
    }
   },
   "cell_type": "code",
   "source": "test_dataset.targets[0: 8]",
   "id": "b6f0a77cbe2b1208",
   "outputs": [
    {
     "data": {
      "text/plain": [
       "tensor([7, 2, 1, 0, 4, 1, 4, 9])"
      ]
     },
     "execution_count": 60,
     "metadata": {},
     "output_type": "execute_result"
    }
   ],
   "execution_count": 60
  },
  {
   "metadata": {
    "ExecuteTime": {
     "end_time": "2025-10-21T07:05:25.400270Z",
     "start_time": "2025-10-21T07:05:25.391534Z"
    }
   },
   "cell_type": "code",
   "source": "print(F.one_hot(test_dataset.targets, 10))",
   "id": "ea3e0760ff30f11f",
   "outputs": [
    {
     "name": "stdout",
     "output_type": "stream",
     "text": [
      "tensor([[0, 0, 0,  ..., 1, 0, 0],\n",
      "        [0, 0, 1,  ..., 0, 0, 0],\n",
      "        [0, 1, 0,  ..., 0, 0, 0],\n",
      "        ...,\n",
      "        [0, 0, 0,  ..., 0, 0, 0],\n",
      "        [0, 0, 0,  ..., 0, 0, 0],\n",
      "        [0, 0, 0,  ..., 0, 0, 0]])\n"
     ]
    }
   ],
   "execution_count": 64
  },
  {
   "metadata": {
    "ExecuteTime": {
     "end_time": "2025-10-21T07:05:42.554453Z",
     "start_time": "2025-10-21T07:05:42.552085Z"
    }
   },
   "cell_type": "code",
   "source": "unet",
   "id": "c2d14b2e9daaa5bc",
   "outputs": [
    {
     "data": {
      "text/plain": [
       "OptimizedModule(\n",
       "  (_orig_mod): Unet(\n",
       "    (first_block_down): Sequential(\n",
       "      (0): Conv2d(1, 32, kernel_size=(3, 3), stride=(1, 1), padding=(1, 1))\n",
       "      (1): GELU(approximate='none')\n",
       "      (2): MaxPool2d(kernel_size=2, stride=2, padding=0, dilation=1, ceil_mode=False)\n",
       "    )\n",
       "    (second_block_down): Sequential(\n",
       "      (0): Conv2d(32, 64, kernel_size=(3, 3), stride=(1, 1), padding=(1, 1))\n",
       "      (1): GELU(approximate='none')\n",
       "      (2): MaxPool2d(kernel_size=2, stride=2, padding=0, dilation=1, ceil_mode=False)\n",
       "    )\n",
       "    (latent_space_block): Sequential(\n",
       "      (0): Conv2d(64, 128, kernel_size=(3, 3), stride=(1, 1), padding=(1, 1))\n",
       "      (1): GELU(approximate='none')\n",
       "    )\n",
       "    (second_block_up): Sequential(\n",
       "      (0): Upsample(scale_factor=2.0, mode='nearest')\n",
       "      (1): Conv2d(128, 64, kernel_size=(3, 3), stride=(1, 1), padding=(1, 1))\n",
       "      (2): GELU(approximate='none')\n",
       "    )\n",
       "    (first_block_up): Sequential(\n",
       "      (0): Upsample(scale_factor=2.0, mode='nearest')\n",
       "      (1): Conv2d(64, 32, kernel_size=(3, 3), stride=(1, 1), padding=(1, 1))\n",
       "      (2): GELU(approximate='none')\n",
       "    )\n",
       "    (global_pool): AdaptiveAvgPool2d(output_size=1)\n",
       "    (fc): Linear(in_features=32, out_features=10, bias=True)\n",
       "  )\n",
       ")"
      ]
     },
     "execution_count": 65,
     "metadata": {},
     "output_type": "execute_result"
    }
   ],
   "execution_count": 65
  },
  {
   "metadata": {
    "ExecuteTime": {
     "end_time": "2025-10-21T07:05:57.171508Z",
     "start_time": "2025-10-21T07:05:57.168579Z"
    }
   },
   "cell_type": "code",
   "source": "unet.parameters()",
   "id": "e4729cb8a91b905d",
   "outputs": [
    {
     "data": {
      "text/plain": [
       "<generator object Module.parameters at 0x33de59310>"
      ]
     },
     "execution_count": 66,
     "metadata": {},
     "output_type": "execute_result"
    }
   ],
   "execution_count": 66
  },
  {
   "metadata": {
    "ExecuteTime": {
     "end_time": "2025-10-21T07:09:20.596488Z",
     "start_time": "2025-10-21T07:09:20.593650Z"
    }
   },
   "cell_type": "code",
   "source": [
    "for param in unet.parameters():\n",
    "    print(param.size(), type(param), str(list(param.size())))"
   ],
   "id": "2986e846a5945c1",
   "outputs": [
    {
     "name": "stdout",
     "output_type": "stream",
     "text": [
      "torch.Size([32, 1, 3, 3]) <class 'torch.nn.parameter.Parameter'> [32, 1, 3, 3]\n",
      "torch.Size([32]) <class 'torch.nn.parameter.Parameter'> [32]\n",
      "torch.Size([64, 32, 3, 3]) <class 'torch.nn.parameter.Parameter'> [64, 32, 3, 3]\n",
      "torch.Size([64]) <class 'torch.nn.parameter.Parameter'> [64]\n",
      "torch.Size([128, 64, 3, 3]) <class 'torch.nn.parameter.Parameter'> [128, 64, 3, 3]\n",
      "torch.Size([128]) <class 'torch.nn.parameter.Parameter'> [128]\n",
      "torch.Size([64, 128, 3, 3]) <class 'torch.nn.parameter.Parameter'> [64, 128, 3, 3]\n",
      "torch.Size([64]) <class 'torch.nn.parameter.Parameter'> [64]\n",
      "torch.Size([32, 64, 3, 3]) <class 'torch.nn.parameter.Parameter'> [32, 64, 3, 3]\n",
      "torch.Size([32]) <class 'torch.nn.parameter.Parameter'> [32]\n",
      "torch.Size([10, 32]) <class 'torch.nn.parameter.Parameter'> [10, 32]\n",
      "torch.Size([10]) <class 'torch.nn.parameter.Parameter'> [10]\n"
     ]
    }
   ],
   "execution_count": 70
  },
  {
   "metadata": {},
   "cell_type": "code",
   "outputs": [],
   "execution_count": null,
   "source": "",
   "id": "9eef04c44cfbc01a"
  },
  {
   "metadata": {
    "ExecuteTime": {
     "end_time": "2025-10-23T00:58:03.064889Z",
     "start_time": "2025-10-23T00:57:47.477853Z"
    }
   },
   "cell_type": "code",
   "source": [
    "\n",
    "from torch.utils.tensorboard import SummaryWriter\n",
    "writer = SummaryWriter()\n",
    "for i in range(100):\n",
    "    writer.add_scalar(\"y=x\", i, i)\n",
    "writer.close()\n"
   ],
   "id": "cffd8fd00f78b0c4",
   "outputs": [],
   "execution_count": 71
  },
  {
   "metadata": {},
   "cell_type": "code",
   "outputs": [],
   "execution_count": null,
   "source": "",
   "id": "c9815c60731f3fee"
  },
  {
   "metadata": {},
   "cell_type": "code",
   "outputs": [],
   "execution_count": null,
   "source": "",
   "id": "3b73f62a265b7261"
  },
  {
   "metadata": {},
   "cell_type": "code",
   "outputs": [],
   "execution_count": null,
   "source": "",
   "id": "14fa69097c741f18"
  },
  {
   "metadata": {},
   "cell_type": "code",
   "outputs": [],
   "execution_count": null,
   "source": "",
   "id": "f892b51782f96b8a"
  }
 ],
 "metadata": {
  "kernelspec": {
   "display_name": "Python 3",
   "language": "python",
   "name": "python3"
  },
  "language_info": {
   "codemirror_mode": {
    "name": "ipython",
    "version": 2
   },
   "file_extension": ".py",
   "mimetype": "text/x-python",
   "name": "python",
   "nbconvert_exporter": "python",
   "pygments_lexer": "ipython2",
   "version": "2.7.6"
  }
 },
 "nbformat": 4,
 "nbformat_minor": 5
}
