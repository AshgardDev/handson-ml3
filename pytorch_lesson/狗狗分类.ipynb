{
 "cells": [
  {
   "cell_type": "code",
   "id": "initial_id",
   "metadata": {
    "collapsed": true,
    "ExecuteTime": {
     "end_time": "2025-10-11T01:43:08.781873Z",
     "start_time": "2025-10-11T01:42:57.712362Z"
    }
   },
   "source": [
    "import torch\n",
    "import torch.nn.functional as F\n",
    "import torch.optim as optim\n",
    "import torchvision\n",
    "import matplotlib.pyplot as plt\n",
    "import torch.nn as nn\n",
    "from torchvision import datasets, models, transforms"
   ],
   "outputs": [],
   "execution_count": 1
  },
  {
   "metadata": {
    "ExecuteTime": {
     "end_time": "2025-10-11T01:45:21.692165Z",
     "start_time": "2025-10-11T01:45:21.689205Z"
    }
   },
   "cell_type": "code",
   "source": [
    "import os\n",
    "import PIL.Image as Image\n",
    "\n",
    "print(os.listdir(\"./Dog/Images\"))\n",
    "\n",
    "# with Image.open(\"./Dog/Images/n02085620-Chihuahua/n02085620_368.jpg\") as im:\n",
    "#     print(im.size)\n"
   ],
   "id": "e0fee5616ba4246d",
   "outputs": [
    {
     "name": "stdout",
     "output_type": "stream",
     "text": [
      "['n02097658-silky_terrier', 'n02092002-Scottish_deerhound', 'n02099849-Chesapeake_Bay_retriever', 'n02091244-Ibizan_hound', 'n02095314-wire-haired_fox_terrier', 'n02091831-Saluki', 'n02102318-cocker_spaniel', 'n02104365-schipperke', 'n02090622-borzoi', 'n02113023-Pembroke', 'n02105505-komondor', 'n02093256-Staffordshire_bullterrier', 'n02113799-standard_poodle', 'n02109961-Eskimo_dog', 'n02089973-English_foxhound', 'n02099601-golden_retriever', 'n02095889-Sealyham_terrier', 'n02085782-Japanese_spaniel', 'n02097047-miniature_schnauzer', 'n02110063-malamute', 'n02105162-malinois', 'n02086079-Pekinese', 'n02097130-giant_schnauzer', 'n02113978-Mexican_hairless', 'n02107142-Doberman', 'n02097209-standard_schnauzer', 'n02115913-dhole', 'n02106662-German_shepherd', 'n02106382-Bouvier_des_Flandres', 'n02110185-Siberian_husky', 'n02094258-Norwich_terrier', 'n02093991-Irish_terrier', 'n02094114-Norfolk_terrier', 'n02109525-Saint_Bernard', 'n02093754-Border_terrier', 'n02105251-briard', 'n02108551-Tibetan_mastiff', 'n02108422-bull_mastiff', 'n02085936-Maltese_dog', 'n02093859-Kerry_blue_terrier', 'n02104029-kuvasz', 'n02107574-Greater_Swiss_Mountain_dog', 'n02095570-Lakeland_terrier', 'n02086646-Blenheim_spaniel', 'n02088238-basset', 'n02098286-West_Highland_white_terrier', 'n02085620-Chihuahua', 'n02106166-Border_collie', 'n02090379-redbone', 'n02090721-Irish_wolfhound', 'n02088632-bluetick', 'n02113712-miniature_poodle', 'n02113186-Cardigan', 'n02108000-EntleBucher', 'n02091467-Norwegian_elkhound', 'n02100236-German_short-haired_pointer', 'n02107683-Bernese_mountain_dog', 'n02086910-papillon', 'n02097474-Tibetan_terrier', 'n02101006-Gordon_setter', 'n02093428-American_Staffordshire_terrier', 'n02100583-vizsla', 'n02105412-kelpie', 'n02092339-Weimaraner', 'n02107312-miniature_pinscher', 'n02108089-boxer', 'n02112137-chow', 'n02105641-Old_English_sheepdog', 'n02110958-pug', 'n02087394-Rhodesian_ridgeback', 'n02097298-Scotch_terrier', 'n02086240-Shih-Tzu', 'n02110627-affenpinscher', 'n02091134-whippet', 'n02102480-Sussex_spaniel', 'n02091635-otterhound', 'n02099267-flat-coated_retriever', 'n02100735-English_setter', 'n02091032-Italian_greyhound', 'n02099712-Labrador_retriever', 'n02106030-collie', 'n02096177-cairn', 'n02106550-Rottweiler', 'n02096294-Australian_terrier', 'n02087046-toy_terrier', 'n02105855-Shetland_sheepdog', 'n02116738-African_hunting_dog', 'n02111277-Newfoundland', 'n02089867-Walker_hound', 'n02098413-Lhasa', 'n02088364-beagle', 'n02111889-Samoyed', 'n02109047-Great_Dane', 'n02096051-Airedale', 'n02088466-bloodhound', 'n02100877-Irish_setter', 'n02112350-keeshond', 'n02096437-Dandie_Dinmont', 'n02110806-basenji', 'n02093647-Bedlington_terrier', 'n02107908-Appenzeller', 'n02101556-clumber', 'n02113624-toy_poodle', 'n02111500-Great_Pyrenees', 'n02102040-English_springer', 'n02088094-Afghan_hound', 'n02101388-Brittany_spaniel', 'n02102177-Welsh_springer_spaniel', 'n02096585-Boston_bull', 'n02115641-dingo', 'n02098105-soft-coated_wheaten_terrier', 'n02099429-curly-coated_retriever', 'n02108915-French_bulldog', 'n02102973-Irish_water_spaniel', 'n02112018-Pomeranian', 'n02112706-Brabancon_griffon', 'n02094433-Yorkshire_terrier', 'n02105056-groenendael', 'n02111129-Leonberg', 'n02089078-black-and-tan_coonhound']\n"
     ]
    }
   ],
   "execution_count": 2
  },
  {
   "metadata": {
    "ExecuteTime": {
     "end_time": "2025-10-11T01:45:42.708872Z",
     "start_time": "2025-10-11T01:45:28.577727Z"
    }
   },
   "cell_type": "code",
   "source": [
    "from sklearn.preprocessing import OneHotEncoder\n",
    "import numpy as np\n",
    "\n",
    "dir = \"./Dog/Images\"\n",
    "dog_dir_list = os.listdir(dir)\n",
    "dog_dir_list = dog_dir_list[:10]\n",
    "\n",
    "transform = transforms.Compose([\n",
    "    transforms.Resize((150, 150)),\n",
    "    transforms.ToTensor(),\n",
    "])\n",
    "\n",
    "X = []\n",
    "labels = []\n",
    "targets = {}\n",
    "class_index = -1\n",
    "def training_data(label, data_dir):\n",
    "    print('正在读入:' + data_dir)\n",
    "    for img in os.listdir(data_dir):\n",
    "        path = os.path.join(data_dir, img)\n",
    "        im = Image.open(path).convert('RGB')\n",
    "        image = transform(im)\n",
    "        X.append(image)\n",
    "        labels.append(label)\n",
    "\n",
    "for dog_dir in dog_dir_list:\n",
    "    label = dog_dir.split(\"-\")[1]\n",
    "    if label not in targets:\n",
    "        targets[label] = class_index + 1\n",
    "    training_data(targets[label], dir + \"/\" + dog_dir)\n",
    "    class_index += 1\n",
    "\n",
    "data = torch.stack(X)\n",
    "labels = torch.LongTensor(labels)\n",
    "print(data.shape)"
   ],
   "id": "ba07adb98eac1c0a",
   "outputs": [
    {
     "name": "stdout",
     "output_type": "stream",
     "text": [
      "正在读入:./Dog/Images/n02097658-silky_terrier\n",
      "正在读入:./Dog/Images/n02092002-Scottish_deerhound\n",
      "正在读入:./Dog/Images/n02099849-Chesapeake_Bay_retriever\n",
      "正在读入:./Dog/Images/n02091244-Ibizan_hound\n",
      "正在读入:./Dog/Images/n02095314-wire-haired_fox_terrier\n",
      "正在读入:./Dog/Images/n02091831-Saluki\n",
      "正在读入:./Dog/Images/n02102318-cocker_spaniel\n",
      "正在读入:./Dog/Images/n02104365-schipperke\n",
      "正在读入:./Dog/Images/n02090622-borzoi\n",
      "正在读入:./Dog/Images/n02113023-Pembroke\n",
      "torch.Size([1772, 3, 150, 150])\n"
     ]
    }
   ],
   "execution_count": 3
  },
  {
   "metadata": {
    "ExecuteTime": {
     "end_time": "2025-10-11T01:45:44.427267Z",
     "start_time": "2025-10-11T01:45:44.422701Z"
    }
   },
   "cell_type": "code",
   "source": "labels, targets",
   "id": "d4e442c6eb410687",
   "outputs": [
    {
     "data": {
      "text/plain": [
       "(tensor([0, 0, 0,  ..., 9, 9, 9]),\n",
       " {'silky_terrier': 0,\n",
       "  'Scottish_deerhound': 1,\n",
       "  'Chesapeake_Bay_retriever': 2,\n",
       "  'Ibizan_hound': 3,\n",
       "  'wire': 4,\n",
       "  'Saluki': 5,\n",
       "  'cocker_spaniel': 6,\n",
       "  'schipperke': 7,\n",
       "  'borzoi': 8,\n",
       "  'Pembroke': 9})"
      ]
     },
     "execution_count": 4,
     "metadata": {},
     "output_type": "execute_result"
    }
   ],
   "execution_count": 4
  },
  {
   "metadata": {
    "ExecuteTime": {
     "end_time": "2025-10-11T01:45:52.510656Z",
     "start_time": "2025-10-11T01:45:52.507341Z"
    }
   },
   "cell_type": "code",
   "source": [
    "class DogNet(nn.Module):\n",
    "    def __init__(self):\n",
    "        super(DogNet, self).__init__()\n",
    "        self.conv1 = nn.Sequential(\n",
    "            nn.Conv2d(\n",
    "                in_channels=3,\n",
    "                out_channels=32,\n",
    "                kernel_size=3,\n",
    "                stride=1,\n",
    "                padding=0\n",
    "            ),\n",
    "            nn.ReLU(),\n",
    "            nn.MaxPool2d(2),\n",
    "            nn.Dropout(0.5),\n",
    "        )\n",
    "        self.conv2 = nn.Sequential(\n",
    "            nn.Conv2d(\n",
    "                in_channels=32,\n",
    "                out_channels=64,\n",
    "                kernel_size=3,\n",
    "                stride=1,\n",
    "                padding=0\n",
    "            ),\n",
    "            nn.ReLU(),\n",
    "            nn.MaxPool2d(2),\n",
    "            nn.Dropout(0.5),\n",
    "        )\n",
    "        self.conv3 = nn.Sequential(\n",
    "            nn.Conv2d(\n",
    "                in_channels=64,\n",
    "                out_channels=128,\n",
    "                kernel_size=3,\n",
    "                stride=1,\n",
    "                padding=0\n",
    "            ),\n",
    "            nn.ReLU(),\n",
    "            nn.MaxPool2d(2),\n",
    "            nn.Dropout(0.5),\n",
    "        )\n",
    "        self.conv4 = nn.Sequential(\n",
    "            nn.Conv2d(\n",
    "                in_channels=128,\n",
    "                out_channels=128,\n",
    "                kernel_size=3,\n",
    "            ),\n",
    "            nn.ReLU(),\n",
    "            nn.MaxPool2d(2),\n",
    "            nn.Dropout(0.5),\n",
    "        )\n",
    "        self.fc1 = nn.Linear(in_features=6272,out_features=512)\n",
    "        self.fc2 = nn.Linear(in_features=512,out_features=10)\n",
    "\n",
    "    def forward(self, x):\n",
    "        x = self.conv1(x)\n",
    "        x = self.conv2(x)\n",
    "        x = self.conv3(x)\n",
    "        x = self.conv4(x)\n",
    "        x = x.view(x.size(0), -1)\n",
    "        x = self.fc1(x)\n",
    "        x = self.fc2(x)\n",
    "        return x"
   ],
   "id": "e5ea92f2d524f8c3",
   "outputs": [],
   "execution_count": 5
  },
  {
   "metadata": {
    "ExecuteTime": {
     "end_time": "2025-09-30T06:56:47.189728Z",
     "start_time": "2025-09-30T06:54:32.196594Z"
    }
   },
   "cell_type": "code",
   "source": [
    "\n",
    "model = DogNet()\n",
    "optimizer = optim.Adam(model.parameters(), lr=0.0001)\n",
    "criterion = nn.CrossEntropyLoss()\n",
    "\n",
    "model.train()\n",
    "for epoch in range(10):\n",
    "    optimizer.zero_grad()\n",
    "    output = model(data)\n",
    "    loss = criterion(output, labels)\n",
    "    loss.backward()\n",
    "    optimizer.step()\n",
    "    print(f\"loss: {loss.item()}\")\n",
    "\n"
   ],
   "id": "511691523290b7",
   "outputs": [
    {
     "name": "stdout",
     "output_type": "stream",
     "text": [
      "loss: 2.304170608520508\n",
      "loss: 2.307943820953369\n",
      "loss: 2.2896671295166016\n",
      "loss: 2.2821996212005615\n",
      "loss: 2.2774016857147217\n",
      "loss: 2.2743887901306152\n",
      "loss: 2.265643835067749\n",
      "loss: 2.2581799030303955\n",
      "loss: 2.2480573654174805\n",
      "loss: 2.2447099685668945\n"
     ]
    }
   ],
   "execution_count": 86
  },
  {
   "metadata": {
    "ExecuteTime": {
     "end_time": "2025-09-30T07:00:31.792160Z",
     "start_time": "2025-09-30T07:00:26.758718Z"
    }
   },
   "cell_type": "code",
   "source": [
    "model.eval()\n",
    "y_pred = model(data)\n",
    "y_pred = torch.argmax(y_pred, dim=1)\n",
    "ok = (y_pred == labels).sum()\n",
    "print(ok/len(y_pred))"
   ],
   "id": "5f32dead39ab0703",
   "outputs": [
    {
     "name": "stdout",
     "output_type": "stream",
     "text": [
      "tensor(0.1309)\n"
     ]
    }
   ],
   "execution_count": 87
  },
  {
   "metadata": {},
   "cell_type": "code",
   "outputs": [],
   "execution_count": null,
   "source": "",
   "id": "c8cd00b8df727f80"
  }
 ],
 "metadata": {
  "kernelspec": {
   "display_name": "Python 3",
   "language": "python",
   "name": "python3"
  },
  "language_info": {
   "codemirror_mode": {
    "name": "ipython",
    "version": 2
   },
   "file_extension": ".py",
   "mimetype": "text/x-python",
   "name": "python",
   "nbconvert_exporter": "python",
   "pygments_lexer": "ipython2",
   "version": "2.7.6"
  }
 },
 "nbformat": 4,
 "nbformat_minor": 5
}
