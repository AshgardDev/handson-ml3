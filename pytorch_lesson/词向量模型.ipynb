{
 "cells": [
  {
   "cell_type": "code",
   "id": "ba9ae0441edb5ca5",
   "metadata": {
    "ExecuteTime": {
     "end_time": "2025-10-28T02:34:12.549787Z",
     "start_time": "2025-10-28T02:34:10.785231Z"
    }
   },
   "source": [
    "import numpy as np\n",
    "from collections import defaultdict\n",
    "\n",
    "# ============ 1. 准备数据 ============\n",
    "corpus = [\n",
    "    \"i like deep learning\",\n",
    "    \"i like nlp\",\n",
    "    \"i enjoy flying\"\n",
    "]"
   ],
   "outputs": [],
   "execution_count": 1
  },
  {
   "metadata": {
    "ExecuteTime": {
     "end_time": "2025-10-28T02:38:26.949091Z",
     "start_time": "2025-10-28T02:38:26.946158Z"
    }
   },
   "cell_type": "code",
   "source": [
    "\n",
    "# 分词\n",
    "tokens = [w for sent in corpus for w in sent.split()]\n",
    "vocab = sorted(set(tokens))\n",
    "word2idx = {w: i for i, w in enumerate(vocab)}\n",
    "idx2word = {i: w for w, i in word2idx.items()}\n",
    "vocab_size = len(vocab)\n",
    "\n",
    "print(\"词表:\", vocab, word2idx, idx2word, sep=\"\\n\")"
   ],
   "id": "93a34ea48bf66d72",
   "outputs": [
    {
     "name": "stdout",
     "output_type": "stream",
     "text": [
      "词表:\n",
      "['deep', 'enjoy', 'flying', 'i', 'learning', 'like', 'nlp']\n",
      "{'deep': 0, 'enjoy': 1, 'flying': 2, 'i': 3, 'learning': 4, 'like': 5, 'nlp': 6}\n",
      "{0: 'deep', 1: 'enjoy', 2: 'flying', 3: 'i', 4: 'learning', 5: 'like', 6: 'nlp'}\n"
     ]
    }
   ],
   "execution_count": 8
  },
  {
   "metadata": {
    "ExecuteTime": {
     "end_time": "2025-10-28T02:34:45.861177Z",
     "start_time": "2025-10-28T02:34:45.858759Z"
    }
   },
   "cell_type": "code",
   "source": [
    "# ============ 2. 构造训练样本 ============\n",
    "def generate_skipgram_pairs(tokens, window_size=1):\n",
    "    pairs = []\n",
    "    for i, center in enumerate(tokens):\n",
    "        for j in range(max(0, i - window_size), min(len(tokens), i + window_size + 1)):\n",
    "            if i != j:\n",
    "                pairs.append((center, tokens[j]))\n",
    "    return pairs\n",
    "\n",
    "pairs = generate_skipgram_pairs(tokens)\n",
    "print(\"样本对示例:\", pairs)"
   ],
   "id": "4e07863c1e17e464",
   "outputs": [
    {
     "name": "stdout",
     "output_type": "stream",
     "text": [
      "样本对示例: [('i', 'like'), ('like', 'i'), ('like', 'deep'), ('deep', 'like'), ('deep', 'learning'), ('learning', 'deep'), ('learning', 'i'), ('i', 'learning'), ('i', 'like'), ('like', 'i'), ('like', 'nlp'), ('nlp', 'like'), ('nlp', 'i'), ('i', 'nlp'), ('i', 'enjoy'), ('enjoy', 'i'), ('enjoy', 'flying'), ('flying', 'enjoy')]\n"
     ]
    }
   ],
   "execution_count": 4
  },
  {
   "metadata": {
    "ExecuteTime": {
     "end_time": "2025-10-28T02:39:37.100339Z",
     "start_time": "2025-10-28T02:39:37.098004Z"
    }
   },
   "cell_type": "code",
   "source": [
    "# ============ 3. 辅助函数 ============\n",
    "def sigmoid(x):\n",
    "    return 1 / (1 + np.exp(-x))\n",
    "\n",
    "def softmax(x):\n",
    "    e = np.exp(x - np.max(x))\n",
    "    return e / e.sum()"
   ],
   "id": "a1d1696e0553921d",
   "outputs": [],
   "execution_count": 9
  },
  {
   "metadata": {
    "ExecuteTime": {
     "end_time": "2025-10-28T02:39:51.277511Z",
     "start_time": "2025-10-28T02:39:49.679693Z"
    }
   },
   "cell_type": "code",
   "source": [
    "# ============ 4. 初始化参数 ============\n",
    "embedding_dim = 5\n",
    "np.random.seed(42)\n",
    "W_in = np.random.randn(vocab_size, embedding_dim) * 0.01   # 输入层权重 (vocab_size x dim)\n",
    "W_out = np.random.randn(embedding_dim, vocab_size) * 0.01  # 输出层权重 (dim x vocab_size)"
   ],
   "id": "96128786dfd83c48",
   "outputs": [],
   "execution_count": 10
  },
  {
   "metadata": {
    "ExecuteTime": {
     "end_time": "2025-10-29T02:23:41.473638Z",
     "start_time": "2025-10-29T02:23:41.251488Z"
    }
   },
   "cell_type": "code",
   "source": [
    "# ============ 5. 训练 ============\n",
    "lr = 0.05\n",
    "epochs = 2000\n",
    "window_size = 1\n",
    "\n",
    "for epoch in range(epochs):\n",
    "    loss = 0\n",
    "    for center, context in pairs:\n",
    "        center_idx = word2idx[center]\n",
    "        context_idx = word2idx[context]\n",
    "\n",
    "        # 前向传播\n",
    "        h = W_in[center_idx]              # 中心词向量 (1 x dim)\n",
    "        u = np.dot(W_out.T, h)            # (vocab_size,)\n",
    "        y_pred = softmax(u)\n",
    "\n",
    "        # 损失函数 (交叉熵)\n",
    "        loss -= np.log(y_pred[context_idx] + 1e-8)\n",
    "\n",
    "        # 反向传播\n",
    "        y_pred[context_idx] -= 1  # y_pred - y_true\n",
    "        dW_out = np.outer(h, y_pred)       # (dim x vocab_size)\n",
    "        dW_in = np.dot(W_out, y_pred)      # (dim,)\n",
    "\n",
    "        # 参数更新\n",
    "        W_in[center_idx] -= lr * dW_in\n",
    "        W_out -= lr * dW_out\n",
    "\n",
    "    if epoch % 200 == 0:\n",
    "        print(f\"Epoch {epoch}, Loss = {loss:.4f}\")"
   ],
   "id": "cd880ce91d78e357",
   "outputs": [
    {
     "name": "stdout",
     "output_type": "stream",
     "text": [
      "Epoch 0, Loss = 35.0274\n",
      "Epoch 200, Loss = 18.8889\n",
      "Epoch 400, Loss = 18.8803\n",
      "Epoch 600, Loss = 18.8645\n",
      "Epoch 800, Loss = 18.8519\n",
      "Epoch 1000, Loss = 18.8409\n",
      "Epoch 1200, Loss = 18.8316\n",
      "Epoch 1400, Loss = 18.8247\n",
      "Epoch 1600, Loss = 18.8200\n",
      "Epoch 1800, Loss = 18.8171\n"
     ]
    }
   ],
   "execution_count": 11
  },
  {
   "metadata": {
    "collapsed": true,
    "ExecuteTime": {
     "end_time": "2025-10-29T02:23:47.023059Z",
     "start_time": "2025-10-29T02:23:47.019833Z"
    }
   },
   "cell_type": "code",
   "source": [
    "\n",
    "# ============ 6. 结果查看 ============\n",
    "def get_word_vec(word):\n",
    "    return W_in[word2idx[word]]\n",
    "\n",
    "def cosine_similarity(a, b):\n",
    "    return np.dot(a, b) / (np.linalg.norm(a) * np.linalg.norm(b))\n",
    "\n",
    "print(\"\\n[相似度检查]\")\n",
    "for w1, w2 in [(\"like\", \"enjoy\"), (\"deep\", \"nlp\"), (\"flying\", \"learning\")]:\n",
    "    sim = cosine_similarity(get_word_vec(w1), get_word_vec(w2))\n",
    "    print(f\"{w1} vs {w2} → 相似度: {sim:.3f}\")\n"
   ],
   "id": "initial_id",
   "outputs": [
    {
     "name": "stdout",
     "output_type": "stream",
     "text": [
      "\n",
      "[相似度检查]\n",
      "like vs enjoy → 相似度: 0.175\n",
      "deep vs nlp → 相似度: 0.328\n",
      "flying vs learning → 相似度: -0.367\n"
     ]
    }
   ],
   "execution_count": 12
  },
  {
   "metadata": {},
   "cell_type": "code",
   "outputs": [],
   "execution_count": null,
   "source": "",
   "id": "857d7b72bd427326"
  },
  {
   "metadata": {
    "ExecuteTime": {
     "end_time": "2025-10-29T06:11:56.177764Z",
     "start_time": "2025-10-29T02:55:58.988182Z"
    }
   },
   "cell_type": "code",
   "source": [
    "import torch\n",
    "import torch.nn as nn\n",
    "import torch.optim as optim\n",
    "import random\n",
    "from collections import Counter\n",
    "from torch.utils.data import Dataset, DataLoader\n",
    "import gensim.downloader as api\n",
    "import matplotlib.pyplot as plt\n",
    "from torch.utils.tensorboard import SummaryWriter\n",
    "\n",
    "# ================= 配置 =================\n",
    "seed = 42\n",
    "random.seed(seed)\n",
    "torch.manual_seed(seed)\n",
    "device = torch.device(\"mps\" if torch.cuda.is_available() else \"cpu\")\n",
    "print(\"Device:\", device)\n",
    "\n",
    "# ================= 1) 加载 text8 语料 =================\n",
    "dataset = api.load(\"text8\")\n",
    "tokens = []\n",
    "for sent in dataset:\n",
    "    tokens.extend(sent)\n",
    "print(\"Total tokens in text8:\", len(tokens))\n",
    "\n",
    "# ================= 2) 只保留前 10000 高频词 =================\n",
    "freq = Counter(tokens)\n",
    "most_common = freq.most_common(10000)\n",
    "vocab = [w for w, _ in most_common]\n",
    "vocab_size = len(vocab)\n",
    "word2idx = {w:i for i, w in enumerate(vocab)}\n",
    "idx2word = {i:w for w,i in word2idx.items()}\n",
    "\n",
    "# 过滤 tokens，只保留高频词\n",
    "tokens = [w for w in tokens if w in word2idx]\n",
    "print(f\"Filtered token count: {len(tokens)}, vocab size: {vocab_size}\")\n",
    "\n",
    "# ================= 3) 生成训练对 =================\n",
    "window_size = 2\n",
    "pairs = []\n",
    "for i, w in enumerate(tokens):\n",
    "    center_idx = word2idx[w]\n",
    "    left = max(0, i - window_size)\n",
    "    right = min(len(tokens), i + window_size + 1)\n",
    "    for j in range(left, right):\n",
    "        if j == i:\n",
    "            continue\n",
    "        context_word = tokens[j]\n",
    "        if context_word not in word2idx:\n",
    "            continue\n",
    "        context_idx = word2idx[context_word]\n",
    "        pairs.append((center_idx, context_idx))\n",
    "print(\"Total training pairs after filtering:\", len(pairs))\n",
    "\n",
    "# ================= 4) 负采样分布 =================\n",
    "freq_list = torch.tensor([freq[w] for w in vocab], dtype=torch.float)\n",
    "unigram = freq_list.pow(0.75)\n",
    "unigram = unigram / unigram.sum()\n",
    "unigram = unigram.to(device)\n",
    "\n",
    "# ================= 5) Dataset + DataLoader =================\n",
    "class SkipGramDataset(Dataset):\n",
    "    def __init__(self, pairs):\n",
    "        self.pairs = pairs\n",
    "    def __len__(self):\n",
    "        return len(self.pairs)\n",
    "    def __getitem__(self, idx):\n",
    "        return self.pairs[idx]\n",
    "\n",
    "batch_size = 512\n",
    "dataset_obj = SkipGramDataset(pairs)\n",
    "dataloader = DataLoader(dataset_obj, batch_size=batch_size, shuffle=True, drop_last=True)\n",
    "\n",
    "# ================= 6) 模型参数（不用 nn.Embedding） =================\n",
    "embedding_dim = 128\n",
    "W_in = nn.Parameter(torch.randn(vocab_size, embedding_dim, device=device) * 0.01)\n",
    "W_out = nn.Parameter(torch.randn(vocab_size, embedding_dim, device=device) * 0.01)\n",
    "\n",
    "neg_samples = 10\n",
    "lr = 0.001\n",
    "weight_decay = 1e-6\n",
    "grad_clip = 5.0\n",
    "epochs = 5\n",
    "\n",
    "optimizer = optim.Adam([W_in, W_out], lr=lr, weight_decay=weight_decay)\n",
    "sigmoid = torch.sigmoid\n",
    "\n",
    "# ================= 7) TensorBoard =================\n",
    "writer = SummaryWriter(log_dir=\"./runs/word2vec_ns\")\n",
    "\n",
    "# ================= 8) 训练循环 =================\n",
    "loss_history = []\n",
    "for epoch in range(1, epochs+1):\n",
    "    total_loss = 0.0\n",
    "    for step, (centers, contexts) in enumerate(dataloader):\n",
    "        centers = centers.to(device)\n",
    "        contexts = contexts.to(device)\n",
    "        B = centers.size(0)\n",
    "\n",
    "        v_c = W_in[centers]        # (B, D)\n",
    "        v_pos = W_out[contexts]    # (B, D)\n",
    "\n",
    "        neg_idx = torch.multinomial(unigram, B * neg_samples, replacement=True).view(B, neg_samples).to(device)\n",
    "        v_neg = W_out[neg_idx]     # (B, K, D)\n",
    "\n",
    "        # 正样本损失\n",
    "        score_pos = torch.sum(v_c * v_pos, dim=1)\n",
    "        loss_pos = -torch.log(sigmoid(score_pos) + 1e-10)\n",
    "\n",
    "        # 负样本损失\n",
    "        score_neg = torch.bmm(v_neg, v_c.unsqueeze(2)).squeeze(2)\n",
    "        loss_neg = -torch.sum(torch.log(sigmoid(-score_neg) + 1e-10), dim=1)\n",
    "\n",
    "        loss = torch.mean(loss_pos + loss_neg)\n",
    "\n",
    "        optimizer.zero_grad()\n",
    "        loss.backward()\n",
    "        torch.nn.utils.clip_grad_norm_([W_in, W_out], max_norm=grad_clip)\n",
    "        optimizer.step()\n",
    "\n",
    "        total_loss += loss.item() * B\n",
    "\n",
    "        # 每 batch 写入 TensorBoard\n",
    "        global_step = (epoch-1)*len(dataloader) + step\n",
    "        writer.add_scalar(\"Loss/Batch\", loss.item(), global_step)\n",
    "\n",
    "    avg_loss = total_loss / len(dataset_obj)\n",
    "    loss_history.append(avg_loss)\n",
    "    writer.add_scalar(\"Loss/Epoch\", avg_loss, epoch)\n",
    "    print(f\"Epoch {epoch}/{epochs}  avg_loss = {avg_loss:.4f}\")\n",
    "\n",
    "    # 向量归一化\n",
    "    with torch.no_grad():\n",
    "        W_in.data = W_in.data / (torch.norm(W_in.data, dim=1, keepdim=True) + 1e-9)\n",
    "        W_out.data = W_out.data / (torch.norm(W_out.data, dim=1, keepdim=True) + 1e-9)\n",
    "\n",
    "# ================= 9) 绘制 loss =================\n",
    "plt.plot(loss_history)\n",
    "plt.xlabel(\"Epoch\")\n",
    "plt.ylabel(\"Avg loss per sample\")\n",
    "plt.title(\"Word2Vec Negative Sampling Training Loss\")\n",
    "plt.show()\n",
    "\n",
    "# ================= 10) 查看相似词 =================\n",
    "def most_similar(word, topk=10):\n",
    "    if word not in word2idx:\n",
    "        return []\n",
    "    idx = word2idx[word]\n",
    "    vec = W_in[idx]\n",
    "    sims = torch.matmul(W_in, vec) / (torch.norm(W_in, dim=1) * torch.norm(vec) + 1e-9)\n",
    "    topk_idx = torch.topk(sims, topk+1).indices.tolist()\n",
    "    res = []\n",
    "    for i in topk_idx:\n",
    "        if i != idx:\n",
    "            res.append((idx2word[i], float(sims[i].cpu())))\n",
    "        if len(res) >= topk:\n",
    "            break\n",
    "    return res\n",
    "\n",
    "probe_words = [\"king\", \"queen\", \"woman\", \"man\", \"computer\", \"data\"]\n",
    "for probe in probe_words:\n",
    "    print(\"Most similar to\", probe, \":\", most_similar(probe, topk=5))\n",
    "\n",
    "# ================= 11) 关闭 TensorBoard =================\n",
    "writer.close()\n"
   ],
   "id": "aba162541c91df4d",
   "outputs": [
    {
     "name": "stderr",
     "output_type": "stream",
     "text": [
      "Exception ignored in: <bound method IPythonKernel._clean_thread_parent_frames of <ipykernel.ipkernel.IPythonKernel object at 0x1130af760>>\n",
      "Traceback (most recent call last):\n",
      "  File \"/opt/miniconda3/envs/homl3/lib/python3.10/site-packages/ipykernel/ipkernel.py\", line 781, in _clean_thread_parent_frames\n",
      "    def _clean_thread_parent_frames(\n",
      "KeyboardInterrupt: \n"
     ]
    },
    {
     "name": "stdout",
     "output_type": "stream",
     "text": [
      "Device: cpu\n",
      "[==================================================] 100.0% 31.6/31.6MB downloaded\n",
      "Total tokens in text8: 17005207\n",
      "Filtered token count: 15268026, vocab size: 10000\n",
      "Total training pairs after filtering: 61072098\n",
      "Epoch 1/5  avg_loss = 2.8055\n",
      "Epoch 2/5  avg_loss = 2.7722\n",
      "Epoch 3/5  avg_loss = 2.7707\n",
      "Epoch 4/5  avg_loss = 2.7701\n",
      "Epoch 5/5  avg_loss = 2.7698\n"
     ]
    },
    {
     "data": {
      "text/plain": [
       "<Figure size 640x480 with 1 Axes>"
      ],
      "image/png": "[encoded data removed]"
     },
     "metadata": {},
     "output_type": "display_data"
    },
    {
     "name": "stdout",
     "output_type": "stream",
     "text": [
      "Most similar to king : [('prince', 0.7016319632530212), ('vii', 0.6731394529342651), ('xiv', 0.6678318977355957), ('duke', 0.6535584926605225), ('viii', 0.6514431834220886)]\n",
      "Most similar to queen : [('elizabeth', 0.7981604337692261), ('princess', 0.757513165473938), ('mary', 0.6955382823944092), ('bride', 0.6936591863632202), ('victoria', 0.6923622488975525)]\n",
      "Most similar to woman : [('child', 0.7146254777908325), ('man', 0.7032318711280823), ('girl', 0.6733605265617371), ('person', 0.6728776693344116), ('lady', 0.6268603205680847)]\n",
      "Most similar to man : [('woman', 0.7032318711280823), ('girl', 0.6267704963684082), ('creature', 0.6121937036514282), ('wise', 0.6056833267211914), ('spider', 0.591452419757843)]\n",
      "Most similar to computer : [('computing', 0.7194661498069763), ('hardware', 0.6886996030807495), ('computers', 0.6592779159545898), ('calculator', 0.6316033005714417), ('console', 0.6270796656608582)]\n",
      "Most similar to data : [('coding', 0.6717900633811951), ('compression', 0.6640878915786743), ('metadata', 0.6400931477546692), ('encoding', 0.6355782151222229), ('modules', 0.6346277594566345)]\n"
     ]
    },
    {
     "name": "stderr",
     "output_type": "stream",
     "text": [
      "/var/folders/kw/ysl7ggsn6wz6r9ms_r7scdgh0000gn/T/ipykernel_20930/3863522990.py:154: UserWarning: Converting a tensor with requires_grad=True to a scalar may lead to unexpected behavior.\n",
      "Consider using tensor.detach() first. (Triggered internally at /Users/runner/work/pytorch/pytorch/pytorch/torch/csrc/autograd/generated/python_variable_methods.cpp:836.)\n",
      "  res.append((idx2word[i], float(sims[i].cpu())))\n"
     ]
    }
   ],
   "execution_count": 20
  },
  {
   "metadata": {},
   "cell_type": "code",
   "outputs": [],
   "execution_count": null,
   "source": "",
   "id": "8cf586a70690ffc7"
  },
  {
   "metadata": {},
   "cell_type": "code",
   "outputs": [],
   "execution_count": null,
   "source": "",
   "id": "ed2dbbfc9b3e6b11"
  },
  {
   "metadata": {
    "ExecuteTime": {
     "end_time": "2025-10-29T07:54:35.586910Z",
     "start_time": "2025-10-29T07:54:35.583969Z"
    }
   },
   "cell_type": "code",
   "source": [
    "import numpy as np\n",
    "from collections import defaultdict\n",
    "\n",
    "# ============ 1. 准备数据 ============\n",
    "corpus = [\n",
    "    \"i like deep learning\",\n",
    "    \"i like nlp\",\n",
    "    \"i enjoy flying\"\n",
    "]\n",
    "\n",
    "# 分词\n",
    "tokens = [w for sent in corpus for w in sent.split()]\n",
    "vocab = sorted(set(tokens))\n",
    "word2idx = {w: i for i, w in enumerate(vocab)}\n",
    "idx2word = {i: w for w, i in word2idx.items()}\n",
    "vocab_size = len(vocab)\n",
    "\n",
    "print(\"词表:\", vocab)\n",
    "\n",
    "# ============ 2. 构造训练样本 ============\n",
    "def generate_skipgram_pairs(tokens, window_size=1):\n",
    "    pairs = []\n",
    "    for i, center in enumerate(tokens):\n",
    "        for j in range(max(0, i - window_size), min(len(tokens), i + window_size + 1)):\n",
    "            if i != j:\n",
    "                pairs.append((center, tokens[j]))\n",
    "    return pairs\n",
    "\n",
    "pairs = generate_skipgram_pairs(tokens)\n",
    "print(\"样本对示例:\", pairs[:])"
   ],
   "id": "acff70eae2db1ad2",
   "outputs": [
    {
     "name": "stdout",
     "output_type": "stream",
     "text": [
      "词表: ['deep', 'enjoy', 'flying', 'i', 'learning', 'like', 'nlp']\n",
      "样本对示例: [('i', 'like'), ('like', 'i'), ('like', 'deep'), ('deep', 'like'), ('deep', 'learning'), ('learning', 'deep'), ('learning', 'i'), ('i', 'learning'), ('i', 'like'), ('like', 'i'), ('like', 'nlp'), ('nlp', 'like'), ('nlp', 'i'), ('i', 'nlp'), ('i', 'enjoy'), ('enjoy', 'i'), ('enjoy', 'flying'), ('flying', 'enjoy')]\n"
     ]
    }
   ],
   "execution_count": 22
  },
  {
   "metadata": {},
   "cell_type": "code",
   "outputs": [],
   "execution_count": null,
   "source": [
    "\n",
    "# ============ 3. 初始化参数 ============\n",
    "embedding_dim = 5\n",
    "np.random.seed(42)\n",
    "W_in = np.random.randn(vocab_size, embedding_dim) * 0.01   # 输入层权重 (vocab_size x dim)\n",
    "W_out = np.random.randn(embedding_dim, vocab_size) * 0.01  # 输出层权重 (dim x vocab_size)\n",
    "\n",
    "# ============ 4. 辅助函数 ============\n",
    "def sigmoid(x):\n",
    "    return 1 / (1 + np.exp(-x))\n",
    "\n",
    "def softmax(x):\n",
    "    e = np.exp(x - np.max(x))\n",
    "    return e / e.sum()\n",
    "\n",
    "# ============ 5. 训练 ============\n",
    "lr = 0.05\n",
    "epochs = 2000\n",
    "window_size = 1\n",
    "\n",
    "for epoch in range(epochs):\n",
    "    loss = 0\n",
    "    for center, context in pairs:\n",
    "        center_idx = word2idx[center]\n",
    "        context_idx = word2idx[context]\n",
    "\n",
    "        # 前向传播\n",
    "        h = W_in[center_idx]              # 中心词向量 (1 x dim)\n",
    "        u = np.dot(W_out.T, h)            # (vocab_size,)\n",
    "        y_pred = softmax(u)\n",
    "\n",
    "        # 损失函数 (交叉熵)\n",
    "        loss -= np.log(y_pred[context_idx] + 1e-8)\n",
    "\n",
    "        # 反向传播\n",
    "        y_pred[context_idx] -= 1  # y_pred - y_true\n",
    "        dW_out = np.outer(h, y_pred)       # (dim x vocab_size)\n",
    "        dW_in = np.dot(W_out, y_pred)      # (dim,)\n",
    "\n",
    "        # 参数更新\n",
    "        W_in[center_idx] -= lr * dW_in\n",
    "        W_out -= lr * dW_out\n",
    "\n",
    "    if epoch % 200 == 0:\n",
    "        print(f\"Epoch {epoch}, Loss = {loss:.4f}\")\n",
    "\n",
    "# ============ 6. 结果查看 ============\n",
    "def get_word_vec(word):\n",
    "    return W_in[word2idx[word]]\n",
    "\n",
    "def cosine_similarity(a, b):\n",
    "    return np.dot(a, b) / (np.linalg.norm(a) * np.linalg.norm(b))\n",
    "\n",
    "print(\"\\n[相似度检查]\")\n",
    "for w1, w2 in [(\"like\", \"enjoy\"), (\"deep\", \"nlp\"), (\"flying\", \"learning\")]:\n",
    "    sim = cosine_similarity(get_word_vec(w1), get_word_vec(w2))\n",
    "    print(f\"{w1} vs {w2} → 相似度: {sim:.3f}\")\n"
   ],
   "id": "9bd667ab772b9080"
  },
  {
   "metadata": {},
   "cell_type": "code",
   "outputs": [],
   "execution_count": null,
   "source": "",
   "id": "ade66f9134a1155e"
  }
 ],
 "metadata": {
  "kernelspec": {
   "display_name": "Python 3",
   "language": "python",
   "name": "python3"
  },
  "language_info": {
   "codemirror_mode": {
    "name": "ipython",
    "version": 2
   },
   "file_extension": ".py",
   "mimetype": "text/x-python",
   "name": "python",
   "nbconvert_exporter": "python",
   "pygments_lexer": "ipython2",
   "version": "2.7.6"
  }
 },
 "nbformat": 4,
 "nbformat_minor": 5
}
