{
 "cells": [
  {
   "cell_type": "code",
   "id": "initial_id",
   "metadata": {
    "collapsed": true,
    "ExecuteTime": {
     "end_time": "2025-09-16T02:05:49.195511Z",
     "start_time": "2025-09-16T02:05:48.713243Z"
    }
   },
   "source": "import torch",
   "outputs": [],
   "execution_count": 1
  },
  {
   "metadata": {
    "ExecuteTime": {
     "end_time": "2025-09-16T02:05:51.384095Z",
     "start_time": "2025-09-16T02:05:51.285503Z"
    }
   },
   "cell_type": "code",
   "source": [
    "# 检查是否支持 MPS\n",
    "if torch.backends.mps.is_available():\n",
    "    mps_device = torch.device(\"mps\")\n",
    "    print(\"MPS 设备可用，PyTorch 将使用 GPU。\")\n",
    "    x = torch.ones(1, device=mps_device)\n",
    "    print(f\"在 MPS 设备上创建了一个 Tensor: {x}\")\n",
    "else:\n",
    "    print(\"MPS 设备不可用，PyTorch 将使用 CPU。\")"
   ],
   "id": "1554f5bfa8e309f5",
   "outputs": [
    {
     "name": "stdout",
     "output_type": "stream",
     "text": [
      "MPS 设备可用，PyTorch 将使用 GPU。\n",
      "在 MPS 设备上创建了一个 Tensor: tensor([1.], device='mps:0')\n"
     ]
    }
   ],
   "execution_count": 2
  },
  {
   "metadata": {
    "ExecuteTime": {
     "end_time": "2025-09-16T02:05:51.816687Z",
     "start_time": "2025-09-16T02:05:51.774415Z"
    }
   },
   "cell_type": "code",
   "source": [
    "dtype = torch.float\n",
    "device = mps_device\n",
    "\n",
    "a = torch.randn(2, 3, device=device, dtype=dtype)\n",
    "b = torch.randn(2, 3, device=device, dtype=dtype)\n",
    "a, b"
   ],
   "id": "2e73d40d0c342566",
   "outputs": [
    {
     "data": {
      "text/plain": [
       "(tensor([[ 0.1646,  0.1572, -1.6094],\n",
       "         [ 0.6139, -0.8295,  0.2639]], device='mps:0'),\n",
       " tensor([[ 0.3428,  1.1078, -1.5746],\n",
       "         [-1.1801, -2.3497,  0.9311]], device='mps:0'))"
      ]
     },
     "execution_count": 3,
     "metadata": {},
     "output_type": "execute_result"
    }
   ],
   "execution_count": 3
  },
  {
   "metadata": {
    "ExecuteTime": {
     "end_time": "2025-09-16T02:05:56.013720Z",
     "start_time": "2025-09-16T02:05:55.978372Z"
    }
   },
   "cell_type": "code",
   "source": [
    "x = torch.ones(5, device=device, dtype=dtype)\n",
    "y = torch.ones(10, dtype=torch.int64)\n",
    "x, y"
   ],
   "id": "f21e410322b6077d",
   "outputs": [
    {
     "data": {
      "text/plain": [
       "(tensor([1., 1., 1., 1., 1.], device='mps:0'),\n",
       " tensor([1, 1, 1, 1, 1, 1, 1, 1, 1, 1]))"
      ]
     },
     "execution_count": 4,
     "metadata": {},
     "output_type": "execute_result"
    }
   ],
   "execution_count": 4
  },
  {
   "metadata": {
    "ExecuteTime": {
     "end_time": "2025-09-16T02:05:56.296232Z",
     "start_time": "2025-09-16T02:05:56.292787Z"
    }
   },
   "cell_type": "code",
   "source": "x.shape, y.shape",
   "id": "14cf3612b2c600b4",
   "outputs": [
    {
     "data": {
      "text/plain": [
       "(torch.Size([5]), torch.Size([10]))"
      ]
     },
     "execution_count": 5,
     "metadata": {},
     "output_type": "execute_result"
    }
   ],
   "execution_count": 5
  },
  {
   "metadata": {
    "ExecuteTime": {
     "end_time": "2025-09-16T02:05:56.648879Z",
     "start_time": "2025-09-16T02:05:56.646266Z"
    }
   },
   "cell_type": "code",
   "source": "y = y.reshape((5, 2))",
   "id": "8f2366c176813500",
   "outputs": [],
   "execution_count": 6
  },
  {
   "metadata": {
    "ExecuteTime": {
     "end_time": "2025-09-16T02:05:56.917988Z",
     "start_time": "2025-09-16T02:05:56.914680Z"
    }
   },
   "cell_type": "code",
   "source": "y, y.shape",
   "id": "10b212f45f49b961",
   "outputs": [
    {
     "data": {
      "text/plain": [
       "(tensor([[1, 1],\n",
       "         [1, 1],\n",
       "         [1, 1],\n",
       "         [1, 1],\n",
       "         [1, 1]]),\n",
       " torch.Size([5, 2]))"
      ]
     },
     "execution_count": 7,
     "metadata": {},
     "output_type": "execute_result"
    }
   ],
   "execution_count": 7
  },
  {
   "metadata": {
    "ExecuteTime": {
     "end_time": "2025-09-16T02:05:57.221903Z",
     "start_time": "2025-09-16T02:05:57.214833Z"
    }
   },
   "cell_type": "code",
   "source": [
    "x = x.reshape(1, 5)\n",
    "x, x.shape"
   ],
   "id": "211fdb21813cc5b9",
   "outputs": [
    {
     "data": {
      "text/plain": [
       "(tensor([[1., 1., 1., 1., 1.]], device='mps:0'), torch.Size([1, 5]))"
      ]
     },
     "execution_count": 8,
     "metadata": {},
     "output_type": "execute_result"
    }
   ],
   "execution_count": 8
  },
  {
   "metadata": {
    "ExecuteTime": {
     "end_time": "2025-09-16T02:05:57.551490Z",
     "start_time": "2025-09-16T02:05:57.545413Z"
    }
   },
   "cell_type": "code",
   "source": [
    "z1 = torch.ones(8, device=device, dtype=torch.float)\n",
    "z2 = torch.ones(8, device=device, dtype=torch.float)\n",
    "\n",
    "z1.shape, z2.shape"
   ],
   "id": "7befd44a6fa1c24f",
   "outputs": [
    {
     "data": {
      "text/plain": [
       "(torch.Size([8]), torch.Size([8]))"
      ]
     },
     "execution_count": 9,
     "metadata": {},
     "output_type": "execute_result"
    }
   ],
   "execution_count": 9
  },
  {
   "metadata": {
    "ExecuteTime": {
     "end_time": "2025-09-16T02:05:57.849874Z",
     "start_time": "2025-09-16T02:05:57.840438Z"
    }
   },
   "cell_type": "code",
   "source": [
    "res = z1.dot(z2)\n",
    "res.shape, res"
   ],
   "id": "a8dfb57ed622da43",
   "outputs": [
    {
     "data": {
      "text/plain": [
       "(torch.Size([]), tensor(8., device='mps:0'))"
      ]
     },
     "execution_count": 10,
     "metadata": {},
     "output_type": "execute_result"
    }
   ],
   "execution_count": 10
  },
  {
   "metadata": {
    "ExecuteTime": {
     "end_time": "2025-09-16T02:05:58.152517Z",
     "start_time": "2025-09-16T02:05:58.149306Z"
    }
   },
   "cell_type": "code",
   "source": "torch.get_device(x), torch.get_device(y), torch.get_device(z1)",
   "id": "6f418dc76a8e07a6",
   "outputs": [
    {
     "data": {
      "text/plain": [
       "(0, -1, 0)"
      ]
     },
     "execution_count": 11,
     "metadata": {},
     "output_type": "execute_result"
    }
   ],
   "execution_count": 11
  },
  {
   "metadata": {
    "ExecuteTime": {
     "end_time": "2025-09-16T02:05:58.453076Z",
     "start_time": "2025-09-16T02:05:58.450255Z"
    }
   },
   "cell_type": "code",
   "source": "torch.backends.mps.is_available()",
   "id": "6fdf73d324e5d94c",
   "outputs": [
    {
     "data": {
      "text/plain": [
       "True"
      ]
     },
     "execution_count": 12,
     "metadata": {},
     "output_type": "execute_result"
    }
   ],
   "execution_count": 12
  },
  {
   "metadata": {
    "ExecuteTime": {
     "end_time": "2025-09-16T02:05:58.810285Z",
     "start_time": "2025-09-16T02:05:58.795172Z"
    }
   },
   "cell_type": "code",
   "source": [
    "m = torch.ones(10, device=device, dtype=torch.int64)\n",
    "n = torch.ones(10, device=device, dtype=torch.int64)\n",
    "\n",
    "m.to(torch.float).dot(n.to(torch.float))"
   ],
   "id": "e3f2ca9709669529",
   "outputs": [
    {
     "data": {
      "text/plain": [
       "tensor(10., device='mps:0')"
      ]
     },
     "execution_count": 13,
     "metadata": {},
     "output_type": "execute_result"
    }
   ],
   "execution_count": 13
  },
  {
   "metadata": {
    "ExecuteTime": {
     "end_time": "2025-09-16T02:05:59.165961Z",
     "start_time": "2025-09-16T02:05:59.157930Z"
    }
   },
   "cell_type": "code",
   "source": [
    "# 假设你的 int64 张量是这样创建的\n",
    "x_int64 = torch.tensor([1, 2, 3], dtype=torch.int64)\n",
    "y_int64 = torch.tensor([4, 5, 6], dtype=torch.int64)\n",
    "\n",
    "# 准备 MPS 设备\n",
    "mps_device = torch.device(\"mps\")\n",
    "\n",
    "# 将张量移动到 MPS 设备并转换为浮点型\n",
    "x_float32 = x_int64.to(mps_device).float()  # 或者 .to(torch.float32)\n",
    "y_float32 = y_int64.to(mps_device).float()\n",
    "\n",
    "# 现在执行点积操作\n",
    "dot_product = torch.dot(x_float32, y_float32)\n",
    "\n",
    "print(f\"原始 int64 张量: {x_int64.dtype}\")\n",
    "print(f\"转换后的浮点张量: {x_float32.dtype}\")\n",
    "print(f\"点积结果: {dot_product}\")"
   ],
   "id": "983e8c243836e5aa",
   "outputs": [
    {
     "name": "stdout",
     "output_type": "stream",
     "text": [
      "原始 int64 张量: torch.int64\n",
      "转换后的浮点张量: torch.float32\n",
      "点积结果: 32.0\n"
     ]
    }
   ],
   "execution_count": 14
  },
  {
   "metadata": {
    "ExecuteTime": {
     "end_time": "2025-09-16T02:05:59.508092Z",
     "start_time": "2025-09-16T02:05:59.499537Z"
    }
   },
   "cell_type": "code",
   "source": [
    "a = torch.tensor([1, 2], dtype=torch.int32, device=mps_device)\n",
    "b = torch.tensor([3, 4], dtype=torch.int32, device=mps_device)\n",
    "\n",
    "# 某些复杂的数学运算可能需要浮点数输入\n",
    "# 这里的点积操作在某些 PyTorch 版本或特定环境下可能会失败\n",
    "dot_product = torch.dot(a, b)\n",
    "(a, b, dot_product, dot_product.shape)"
   ],
   "id": "d4a9da1e94f7e88d",
   "outputs": [
    {
     "data": {
      "text/plain": [
       "(tensor([1, 2], device='mps:0', dtype=torch.int32),\n",
       " tensor([3, 4], device='mps:0', dtype=torch.int32),\n",
       " tensor(11, device='mps:0', dtype=torch.int32),\n",
       " torch.Size([]))"
      ]
     },
     "execution_count": 15,
     "metadata": {},
     "output_type": "execute_result"
    }
   ],
   "execution_count": 15
  },
  {
   "metadata": {
    "ExecuteTime": {
     "end_time": "2025-09-16T02:06:00.093317Z",
     "start_time": "2025-09-16T02:06:00.089962Z"
    }
   },
   "cell_type": "code",
   "source": [
    "import numpy as np\n",
    "a = np.random.randn(2, 3)\n",
    "a"
   ],
   "id": "3f2df18f8f6f49f",
   "outputs": [
    {
     "data": {
      "text/plain": [
       "array([[-1.15751126,  0.33693093, -0.71086177],\n",
       "       [ 0.07633506,  0.16416533,  0.66767822]])"
      ]
     },
     "execution_count": 16,
     "metadata": {},
     "output_type": "execute_result"
    }
   ],
   "execution_count": 16
  },
  {
   "metadata": {
    "ExecuteTime": {
     "end_time": "2025-09-16T02:06:00.462414Z",
     "start_time": "2025-09-16T02:06:00.459689Z"
    }
   },
   "cell_type": "code",
   "source": [
    "b = torch.from_numpy(a)\n",
    "b, b.shape"
   ],
   "id": "4eae6adde6d94702",
   "outputs": [
    {
     "data": {
      "text/plain": [
       "(tensor([[-1.1575,  0.3369, -0.7109],\n",
       "         [ 0.0763,  0.1642,  0.6677]], dtype=torch.float64),\n",
       " torch.Size([2, 3]))"
      ]
     },
     "execution_count": 17,
     "metadata": {},
     "output_type": "execute_result"
    }
   ],
   "execution_count": 17
  },
  {
   "metadata": {
    "ExecuteTime": {
     "end_time": "2025-09-16T02:06:00.988724Z",
     "start_time": "2025-09-16T02:06:00.986900Z"
    }
   },
   "cell_type": "code",
   "source": [
    "# 张量相加\n",
    "e = torch.randn(2, 3)\n",
    "f = torch.randn(2, 3)"
   ],
   "id": "604fd2a8c5f2c70a",
   "outputs": [],
   "execution_count": 18
  },
  {
   "metadata": {
    "ExecuteTime": {
     "end_time": "2025-09-16T02:06:01.418715Z",
     "start_time": "2025-09-16T02:06:01.415509Z"
    }
   },
   "cell_type": "code",
   "source": "e + f",
   "id": "831d385174b90696",
   "outputs": [
    {
     "data": {
      "text/plain": [
       "tensor([[-1.3673, -0.2279,  0.4502],\n",
       "        [ 0.4546, -0.2069, -0.9870]])"
      ]
     },
     "execution_count": 19,
     "metadata": {},
     "output_type": "execute_result"
    }
   ],
   "execution_count": 19
  },
  {
   "metadata": {
    "ExecuteTime": {
     "end_time": "2025-09-16T02:06:03.112128Z",
     "start_time": "2025-09-16T02:06:03.001455Z"
    }
   },
   "cell_type": "code",
   "source": "e * f",
   "id": "9cb076b7fdf2ac5",
   "outputs": [
    {
     "ename": "NameError",
     "evalue": "name 'e' is not defined",
     "output_type": "error",
     "traceback": [
      "\u001B[0;31m---------------------------------------------------------------------------\u001B[0m",
      "\u001B[0;31mNameError\u001B[0m                                 Traceback (most recent call last)",
      "Cell \u001B[0;32mIn[20], line 1\u001B[0m\n\u001B[0;32m----> 1\u001B[0m \u001B[43me\u001B[49m \u001B[38;5;241m*\u001B[39m f\n",
      "\u001B[0;31mNameError\u001B[0m: name 'e' is not defined"
     ]
    }
   ],
   "execution_count": 20
  },
  {
   "metadata": {
    "ExecuteTime": {
     "end_time": "2025-09-16T02:06:03.113632Z",
     "start_time": "2025-09-16T01:48:56.411321Z"
    }
   },
   "cell_type": "code",
   "source": "e @ f.t()",
   "id": "5bf618f5d8bd2dca",
   "outputs": [
    {
     "data": {
      "text/plain": [
       "tensor([[-0.8025,  2.8097],\n",
       "        [-0.1521,  0.9669]])"
      ]
     },
     "execution_count": 165,
     "metadata": {},
     "output_type": "execute_result"
    }
   ],
   "execution_count": 165
  },
  {
   "metadata": {
    "ExecuteTime": {
     "end_time": "2025-09-16T02:06:03.116845Z",
     "start_time": "2025-09-16T01:48:56.724210Z"
    }
   },
   "cell_type": "code",
   "source": "f, f.transpose(1, 0), f.transpose(0, 1), f.T",
   "id": "3795227c296e62dd",
   "outputs": [
    {
     "data": {
      "text/plain": [
       "(tensor([[-0.3922,  1.0138,  0.2164],\n",
       "         [-0.1539,  0.3358, -2.2552]]),\n",
       " tensor([[-0.3922, -0.1539],\n",
       "         [ 1.0138,  0.3358],\n",
       "         [ 0.2164, -2.2552]]),\n",
       " tensor([[-0.3922, -0.1539],\n",
       "         [ 1.0138,  0.3358],\n",
       "         [ 0.2164, -2.2552]]),\n",
       " tensor([[-0.3922, -0.1539],\n",
       "         [ 1.0138,  0.3358],\n",
       "         [ 0.2164, -2.2552]]))"
      ]
     },
     "execution_count": 166,
     "metadata": {},
     "output_type": "execute_result"
    }
   ],
   "execution_count": 166
  },
  {
   "metadata": {
    "ExecuteTime": {
     "end_time": "2025-09-16T02:06:03.118207Z",
     "start_time": "2025-09-16T01:48:57.112643Z"
    }
   },
   "cell_type": "code",
   "source": "f.shape",
   "id": "c1f2dfe0b12f6013",
   "outputs": [
    {
     "data": {
      "text/plain": [
       "torch.Size([2, 3])"
      ]
     },
     "execution_count": 167,
     "metadata": {},
     "output_type": "execute_result"
    }
   ],
   "execution_count": 167
  },
  {
   "metadata": {
    "ExecuteTime": {
     "end_time": "2025-09-16T02:06:03.203091Z",
     "start_time": "2025-09-16T02:06:03.200072Z"
    }
   },
   "cell_type": "code",
   "source": [
    "x = torch.tensor([1.0, 2.0, 3.0], requires_grad=True)\n",
    "y = (x**2).sum()\n",
    "y.backward()\n",
    "x.grad"
   ],
   "id": "716eb3afd108107c",
   "outputs": [
    {
     "data": {
      "text/plain": [
       "tensor([2., 4., 6.])"
      ]
     },
     "execution_count": 21,
     "metadata": {},
     "output_type": "execute_result"
    }
   ],
   "execution_count": 21
  },
  {
   "metadata": {
    "ExecuteTime": {
     "end_time": "2025-09-16T02:06:03.528623Z",
     "start_time": "2025-09-16T02:06:03.525327Z"
    }
   },
   "cell_type": "code",
   "source": [
    "# 创建一个需要梯度的张量\n",
    "tensor_requires_grad = torch.tensor([1.0], requires_grad=True)\n",
    "\n",
    "# 进行一些操作\n",
    "tensor_result = tensor_requires_grad * 2\n",
    "\n",
    "# 计算梯度\n",
    "tensor_result.backward()\n",
    "print(tensor_requires_grad.grad)  # 输出梯度"
   ],
   "id": "d0192a3a2a33376e",
   "outputs": [
    {
     "name": "stdout",
     "output_type": "stream",
     "text": [
      "tensor([2.])\n"
     ]
    }
   ],
   "execution_count": 22
  },
  {
   "metadata": {
    "ExecuteTime": {
     "end_time": "2025-09-16T02:06:04.778070Z",
     "start_time": "2025-09-16T02:06:04.773081Z"
    }
   },
   "cell_type": "code",
   "source": [
    "# 创建一个需要计算梯度的张量\n",
    "x = torch.tensor([2.0, 3.0], requires_grad=True)\n",
    "# 执行某些操作\n",
    "y = x + 2\n",
    "y.retain_grad()\n",
    "z = y * y * 3\n",
    "z.retain_grad()\n",
    "out = z.mean()\n",
    "out.retain_grad()\n",
    "\n",
    "print(x)\n",
    "print(y)\n",
    "print(z)\n",
    "print(out)\n",
    "\n",
    "out.backward()\n",
    "print(\"---------------\")\n",
    "print(x.grad)\n",
    "print(y.grad)\n",
    "print(z.grad)\n",
    "print(out.grad)"
   ],
   "id": "51845c1807945bc6",
   "outputs": [
    {
     "name": "stdout",
     "output_type": "stream",
     "text": [
      "tensor([2., 3.], requires_grad=True)\n",
      "tensor([4., 5.], grad_fn=<AddBackward0>)\n",
      "tensor([48., 75.], grad_fn=<MulBackward0>)\n",
      "tensor(61.5000, grad_fn=<MeanBackward0>)\n",
      "---------------\n",
      "tensor([12., 15.])\n",
      "tensor([12., 15.])\n",
      "tensor([0.5000, 0.5000])\n",
      "tensor(1.)\n"
     ]
    }
   ],
   "execution_count": 23
  },
  {
   "metadata": {
    "ExecuteTime": {
     "end_time": "2025-09-16T02:06:06.895077Z",
     "start_time": "2025-09-16T02:06:06.891820Z"
    }
   },
   "cell_type": "code",
   "source": [
    "with torch.no_grad():\n",
    "    m = x**3\n",
    "print(m)"
   ],
   "id": "74647c631ba27b6c",
   "outputs": [
    {
     "name": "stdout",
     "output_type": "stream",
     "text": [
      "tensor([ 8., 27.])\n"
     ]
    }
   ],
   "execution_count": 24
  },
  {
   "metadata": {
    "ExecuteTime": {
     "end_time": "2025-09-16T02:38:24.337409Z",
     "start_time": "2025-09-16T02:38:24.333068Z"
    }
   },
   "cell_type": "code",
   "source": [
    "import torch.nn as nn\n",
    "import torch.optim as optim\n",
    "\n",
    "class SimpleNN(nn.Module):\n",
    "    def __init__(self):\n",
    "        super(SimpleNN, self).__init__()\n",
    "        self.fc1 = nn.Linear(2, 2)\n",
    "        self.fc2 = nn.Linear(2, 1)\n",
    "\n",
    "    def forward(self, x):\n",
    "        x = torch.relu(self.fc1(x))\n",
    "        x = self.fc2(x)\n",
    "        return x\n",
    "\n",
    "model = SimpleNN()\n",
    "print(model)\n",
    "for name, param in model.named_parameters():\n",
    "    print(name, param.shape, param.requires_grad)"
   ],
   "id": "772e415a0edf1113",
   "outputs": [
    {
     "name": "stdout",
     "output_type": "stream",
     "text": [
      "SimpleNN(\n",
      "  (fc1): Linear(in_features=2, out_features=2, bias=True)\n",
      "  (fc2): Linear(in_features=2, out_features=1, bias=True)\n",
      ")\n",
      "fc1.weight torch.Size([2, 2]) True\n",
      "fc1.bias torch.Size([2]) True\n",
      "fc2.weight torch.Size([1, 2]) True\n",
      "fc2.bias torch.Size([1]) True\n"
     ]
    }
   ],
   "execution_count": 41
  },
  {
   "metadata": {
    "ExecuteTime": {
     "end_time": "2025-09-16T02:06:09.671177Z",
     "start_time": "2025-09-16T02:06:09.667820Z"
    }
   },
   "cell_type": "code",
   "source": [
    "x = torch.randn(1, 2)\n",
    "res = model.forward(x)\n",
    "print(res)"
   ],
   "id": "c301cd77dbbd3067",
   "outputs": [
    {
     "name": "stdout",
     "output_type": "stream",
     "text": [
      "tensor([[0.3445]], grad_fn=<AddmmBackward0>)\n"
     ]
    }
   ],
   "execution_count": 26
  },
  {
   "metadata": {
    "ExecuteTime": {
     "end_time": "2025-09-16T02:06:10.270004Z",
     "start_time": "2025-09-16T02:06:10.266644Z"
    }
   },
   "cell_type": "code",
   "source": [
    "criterion = nn.MSELoss()\n",
    "target = torch.randn(1, 1)\n",
    "print(target)"
   ],
   "id": "997eb365db761b2f",
   "outputs": [
    {
     "name": "stdout",
     "output_type": "stream",
     "text": [
      "tensor([[1.0708]])\n"
     ]
    }
   ],
   "execution_count": 27
  },
  {
   "metadata": {
    "ExecuteTime": {
     "end_time": "2025-09-16T02:06:10.792651Z",
     "start_time": "2025-09-16T02:06:10.789743Z"
    }
   },
   "cell_type": "code",
   "source": [
    "loss = criterion(res, target)\n",
    "print(loss)"
   ],
   "id": "93803c0aa5e95ec6",
   "outputs": [
    {
     "name": "stdout",
     "output_type": "stream",
     "text": [
      "tensor(0.5275, grad_fn=<MseLossBackward0>)\n"
     ]
    }
   ],
   "execution_count": 28
  },
  {
   "metadata": {
    "ExecuteTime": {
     "end_time": "2025-09-16T02:06:11.261171Z",
     "start_time": "2025-09-16T02:06:11.258573Z"
    }
   },
   "cell_type": "code",
   "source": "pow(-1.8981 - (-0.1836), 2)",
   "id": "54b801d16bb1bcab",
   "outputs": [
    {
     "data": {
      "text/plain": [
       "2.9395102499999997"
      ]
     },
     "execution_count": 29,
     "metadata": {},
     "output_type": "execute_result"
    }
   ],
   "execution_count": 29
  },
  {
   "metadata": {
    "ExecuteTime": {
     "end_time": "2025-09-16T02:39:08.788868Z",
     "start_time": "2025-09-16T02:39:08.782809Z"
    }
   },
   "cell_type": "code",
   "source": [
    "model2 = SimpleNN()\n",
    "x = torch.randn(1, 2)\n",
    "res = model2.forward(x)\n",
    "print(f\"res:{res}\")\n",
    "\n",
    "criterion = nn.MSELoss()\n",
    "target = torch.randn(1, 1)\n",
    "loss = criterion(res, target)\n",
    "print(f\"loss={loss}\")\n",
    "\n",
    "# 定义优化器（使用 Adam 优化器）\n",
    "optimizer = optim.Adam(model2.parameters(), lr=0.001)\n",
    "\n",
    "# 训练步骤\n",
    "optimizer.zero_grad()  # 清空梯度\n",
    "loss.backward()  # 反向传播\n",
    "optimizer.step()  # 更新参数\n",
    "print(loss)\n",
    "\n",
    "for name, param in model2.named_parameters():\n",
    "    print(name, param.shape, param.requires_grad)"
   ],
   "id": "683965d72da67d20",
   "outputs": [
    {
     "name": "stdout",
     "output_type": "stream",
     "text": [
      "res:tensor([[0.2142]], grad_fn=<AddmmBackward0>)\n",
      "loss=0.3704860508441925\n",
      "tensor(0.3705, grad_fn=<MseLossBackward0>)\n",
      "fc1.weight torch.Size([2, 2]) True\n",
      "fc1.bias torch.Size([2]) True\n",
      "fc2.weight torch.Size([1, 2]) True\n",
      "fc2.bias torch.Size([1]) True\n"
     ]
    }
   ],
   "execution_count": 42
  },
  {
   "metadata": {
    "ExecuteTime": {
     "end_time": "2025-09-16T02:35:15.386191Z",
     "start_time": "2025-09-16T02:35:15.379289Z"
    }
   },
   "cell_type": "code",
   "source": [
    "import torch\n",
    "import torch.nn as nn\n",
    "import torch.optim as optim\n",
    "\n",
    "# ====== 1. 定义一个简单模型 ======\n",
    "class MyModel(nn.Module):\n",
    "    def __init__(self):\n",
    "        super().__init__()\n",
    "        self.fc = nn.Linear(2, 1)  # weight (1x2) + bias (1)\n",
    "\n",
    "    def forward(self, x):\n",
    "        return self.fc(x)\n",
    "\n",
    "model = MyModel()\n",
    "\n",
    "# ====== 2. 打印初始参数 ======\n",
    "print(\"=== 初始参数 ===\")\n",
    "for name, param in model.named_parameters():\n",
    "    print(f\"{name}: {param.data}\")\n",
    "\n",
    "# ====== 3. 构造数据和损失函数 ======\n",
    "x = torch.tensor([[1.0, 2.0]])  # shape [1, 2]\n",
    "y = torch.tensor([[5.0]])       # target\n",
    "\n",
    "criterion = nn.MSELoss()\n",
    "optimizer = optim.SGD(model.parameters(), lr=0.1)\n",
    "\n",
    "# ====== 4. 前向传播 ======\n",
    "y_pred = model(x)\n",
    "loss = criterion(y_pred, y)\n",
    "print(f\"\\nloss: {loss.item():.4f}\")\n",
    "\n",
    "# ====== 5. 反向传播，查看梯度 ======\n",
    "loss.backward()\n",
    "\n",
    "print(\"\\n=== backward 后梯度 ===\")\n",
    "for name, param in model.named_parameters():\n",
    "    print(f\"{name}.grad: {param.grad}\")\n",
    "\n",
    "# ====== 6. 参数更新 ======\n",
    "optimizer.step()\n",
    "\n",
    "print(\"\\n=== optimizer.step() 后参数 ===\")\n",
    "for name, param in model.named_parameters():\n",
    "    print(f\"{name}: {param.data}, {id(param.data)}\")\n",
    "\n",
    "# ====== 7. 清空梯度 ======\n",
    "optimizer.zero_grad()\n",
    "\n",
    "print(\"\\n=== zero_grad() 后梯度 ===\")\n",
    "for name, param in model.named_parameters():\n",
    "    print(f\"{name}.grad: {param.grad}\")\n"
   ],
   "id": "42efe4253fab4f00",
   "outputs": [
    {
     "name": "stdout",
     "output_type": "stream",
     "text": [
      "=== 初始参数 ===\n",
      "fc.weight: tensor([[-0.6484, -0.6297]])\n",
      "fc.bias: tensor([-0.2482])\n",
      "\n",
      "loss: 51.2081\n",
      "\n",
      "=== backward 后梯度 ===\n",
      "fc.weight.grad: tensor([[-14.3120, -28.6239]])\n",
      "fc.bias.grad: tensor([-14.3120])\n",
      "\n",
      "=== optimizer.step() 后参数 ===\n",
      "fc.weight: tensor([[0.7828, 2.2327]]), 6375220192\n",
      "fc.bias: tensor([1.1830]), 6375220192\n",
      "\n",
      "=== zero_grad() 后梯度 ===\n",
      "fc.weight.grad: None\n",
      "fc.bias.grad: None\n"
     ]
    }
   ],
   "execution_count": 39
  },
  {
   "metadata": {},
   "cell_type": "markdown",
   "source": "## 用Tensor写一个模型训练的全流程demo",
   "id": "52e8fdca999d242e"
  },
  {
   "metadata": {
    "ExecuteTime": {
     "end_time": "2025-09-16T03:44:07.374349Z",
     "start_time": "2025-09-16T03:44:07.303989Z"
    }
   },
   "cell_type": "code",
   "source": [
    "class MyModel(nn.Module):\n",
    "    def __init__(self):\n",
    "        super().__init__()\n",
    "        self.fc1 = nn.Linear(4, 4)\n",
    "        self.fc2 = nn.Linear(4, 1)\n",
    "\n",
    "    def forward(self, x):\n",
    "        a = torch.relu(self.fc1(x))\n",
    "        a = self.fc2(a)\n",
    "        return a\n",
    "\n",
    "myModel = MyModel()\n",
    "data = torch.randn(100, 4)\n",
    "labels = torch.randn(100, 1)\n",
    "criterion = nn.MSELoss()\n",
    "optimizer = optim.SGD(myModel.parameters(), lr=0.01)\n",
    "\n",
    "cost_history = []\n",
    "\n",
    "# 迭代\n",
    "for epoch in range(200):\n",
    "    optimizer.zero_grad() # 清空梯度\n",
    "    pred = myModel.forward(data) # 前向计算\n",
    "    loss = criterion(pred, labels) # 计算损失\n",
    "    loss.backward() # 计算梯度\n",
    "    optimizer.step() # 更新参数\n",
    "    cost_history.append(loss.item())\n",
    "    # 每 10 轮输出一次损失\n",
    "    if (epoch+1) % 10 == 0:\n",
    "        print(f'Epoch [{epoch+1}/100], Loss: {loss.item():.4f}')\n",
    "\n",
    "import matplotlib.pyplot as plt\n",
    "plt.plot(cost_history)\n",
    "plt.show()"
   ],
   "id": "d909dc53e3c38cbb",
   "outputs": [
    {
     "name": "stdout",
     "output_type": "stream",
     "text": [
      "Epoch [10/100], Loss: 1.0685\n",
      "Epoch [20/100], Loss: 1.0399\n",
      "Epoch [30/100], Loss: 1.0232\n",
      "Epoch [40/100], Loss: 1.0120\n",
      "Epoch [50/100], Loss: 1.0037\n",
      "Epoch [60/100], Loss: 0.9968\n",
      "Epoch [70/100], Loss: 0.9909\n",
      "Epoch [80/100], Loss: 0.9860\n",
      "Epoch [90/100], Loss: 0.9817\n",
      "Epoch [100/100], Loss: 0.9778\n",
      "Epoch [110/100], Loss: 0.9743\n",
      "Epoch [120/100], Loss: 0.9714\n",
      "Epoch [130/100], Loss: 0.9687\n",
      "Epoch [140/100], Loss: 0.9662\n",
      "Epoch [150/100], Loss: 0.9639\n",
      "Epoch [160/100], Loss: 0.9618\n",
      "Epoch [170/100], Loss: 0.9598\n",
      "Epoch [180/100], Loss: 0.9579\n",
      "Epoch [190/100], Loss: 0.9562\n",
      "Epoch [200/100], Loss: 0.9544\n"
     ]
    },
    {
     "data": {
      "text/plain": [
       "<Figure size 640x480 with 1 Axes>"
      ],
      "image/png": "[encoded data removed]"
     },
     "metadata": {},
     "output_type": "display_data"
    }
   ],
   "execution_count": 55
  },
  {
   "metadata": {
    "ExecuteTime": {
     "end_time": "2025-09-16T03:46:07.048268Z",
     "start_time": "2025-09-16T03:46:05.843282Z"
    }
   },
   "cell_type": "code",
   "source": [
    "## 转到mps 设备\n",
    "device = torch.device(\"mps\")\n",
    "myModel.to(device)\n",
    "data = data.to(device)\n",
    "labels = labels.to(device)\n",
    "\n",
    "cost_history = []\n",
    "\n",
    "# 迭代\n",
    "for epoch in range(200):\n",
    "    optimizer.zero_grad() # 清空梯度\n",
    "    pred = myModel.forward(data) # 前向计算\n",
    "    loss = criterion(pred, labels) # 计算损失\n",
    "    loss.backward() # 计算梯度\n",
    "    optimizer.step() # 更新参数\n",
    "    cost_history.append(loss.item())\n",
    "    # 每 10 轮输出一次损失\n",
    "    if (epoch+1) % 10 == 0:\n",
    "        print(f'Epoch [{epoch+1}/100], Loss: {loss.item():.4f}')\n",
    "\n",
    "import matplotlib.pyplot as plt\n",
    "plt.plot(cost_history)\n",
    "plt.show()"
   ],
   "id": "735fb4931d50fec1",
   "outputs": [
    {
     "name": "stdout",
     "output_type": "stream",
     "text": [
      "Epoch [10/100], Loss: 0.9528\n",
      "Epoch [20/100], Loss: 0.9513\n",
      "Epoch [30/100], Loss: 0.9499\n",
      "Epoch [40/100], Loss: 0.9486\n",
      "Epoch [50/100], Loss: 0.9474\n",
      "Epoch [60/100], Loss: 0.9462\n",
      "Epoch [70/100], Loss: 0.9451\n",
      "Epoch [80/100], Loss: 0.9442\n",
      "Epoch [90/100], Loss: 0.9434\n",
      "Epoch [100/100], Loss: 0.9427\n",
      "Epoch [110/100], Loss: 0.9420\n",
      "Epoch [120/100], Loss: 0.9413\n",
      "Epoch [130/100], Loss: 0.9406\n",
      "Epoch [140/100], Loss: 0.9399\n",
      "Epoch [150/100], Loss: 0.9393\n",
      "Epoch [160/100], Loss: 0.9387\n",
      "Epoch [170/100], Loss: 0.9382\n",
      "Epoch [180/100], Loss: 0.9375\n",
      "Epoch [190/100], Loss: 0.9370\n",
      "Epoch [200/100], Loss: 0.9364\n"
     ]
    },
    {
     "data": {
      "text/plain": [
       "<Figure size 640x480 with 1 Axes>"
      ],
      "image/png": "[encoded data removed]"
     },
     "metadata": {},
     "output_type": "display_data"
    }
   ],
   "execution_count": 57
  },
  {
   "metadata": {
    "ExecuteTime": {
     "end_time": "2025-09-16T07:03:02.190473Z",
     "start_time": "2025-09-16T07:03:02.183194Z"
    }
   },
   "cell_type": "code",
   "source": [
    "tensor_2d = torch.tensor([\n",
    "    [-9, 4, 2, 5, 7],\n",
    "    [3, 0, 12, 8, 6],\n",
    "    [1, 23, -6, 45, 2],\n",
    "    [22, 3, -1, 72, 6]\n",
    "])\n",
    "print(\"2D Tensor (Matrix):\\n\", tensor_2d)\n",
    "print(\"Shape:\", tensor_2d.shape)  # 形状"
   ],
   "id": "cf90b432b3f26d8b",
   "outputs": [
    {
     "name": "stdout",
     "output_type": "stream",
     "text": [
      "2D Tensor (Matrix):\n",
      " tensor([[-9,  4,  2,  5,  7],\n",
      "        [ 3,  0, 12,  8,  6],\n",
      "        [ 1, 23, -6, 45,  2],\n",
      "        [22,  3, -1, 72,  6]])\n",
      "Shape: torch.Size([4, 5])\n"
     ]
    }
   ],
   "execution_count": 58
  },
  {
   "metadata": {
    "ExecuteTime": {
     "end_time": "2025-09-16T07:03:42.137992Z",
     "start_time": "2025-09-16T07:03:42.134655Z"
    }
   },
   "cell_type": "code",
   "source": [
    "tensor_3d = torch.stack([tensor_2d, tensor_2d + 5, tensor_2d - 5])\n",
    "print(\"3D Tensor (Matrix):\\n\", tensor_3d)"
   ],
   "id": "33d38a621519a8a7",
   "outputs": [
    {
     "name": "stdout",
     "output_type": "stream",
     "text": [
      "3D Tensor (Matrix):\n",
      " tensor([[[ -9,   4,   2,   5,   7],\n",
      "         [  3,   0,  12,   8,   6],\n",
      "         [  1,  23,  -6,  45,   2],\n",
      "         [ 22,   3,  -1,  72,   6]],\n",
      "\n",
      "        [[ -4,   9,   7,  10,  12],\n",
      "         [  8,   5,  17,  13,  11],\n",
      "         [  6,  28,  -1,  50,   7],\n",
      "         [ 27,   8,   4,  77,  11]],\n",
      "\n",
      "        [[-14,  -1,  -3,   0,   2],\n",
      "         [ -2,  -5,   7,   3,   1],\n",
      "         [ -4,  18, -11,  40,  -3],\n",
      "         [ 17,  -2,  -6,  67,   1]]])\n"
     ]
    }
   ],
   "execution_count": 59
  },
  {
   "metadata": {
    "ExecuteTime": {
     "end_time": "2025-09-16T07:06:45.810587Z",
     "start_time": "2025-09-16T07:06:45.806766Z"
    }
   },
   "cell_type": "code",
   "source": [
    "tensor_1d = torch.randn(4)\n",
    "tensor_1d_2 = torch.randn(4)\n",
    "tensor_2d = torch.stack((tensor_1d, tensor_1d_2))\n",
    "res = torch.vstack([tensor_1d, tensor_1d_2])\n",
    "print(res)\n",
    "res = torch.hstack([tensor_1d, tensor_1d_2])\n",
    "print(res)"
   ],
   "id": "1eb37ddd88d2baea",
   "outputs": [
    {
     "name": "stdout",
     "output_type": "stream",
     "text": [
      "tensor([[ 1.5474, -0.1144, -1.1532,  0.3698],\n",
      "        [-0.0048,  0.6532, -0.9203, -0.4707]])\n",
      "tensor([ 1.5474, -0.1144, -1.1532,  0.3698, -0.0048,  0.6532, -0.9203, -0.4707])\n"
     ]
    }
   ],
   "execution_count": 66
  },
  {
   "metadata": {
    "ExecuteTime": {
     "end_time": "2025-09-16T07:07:30.796087Z",
     "start_time": "2025-09-16T07:07:30.793799Z"
    }
   },
   "cell_type": "code",
   "source": "tensor_1d.shape, tensor_2d.size()",
   "id": "eb3cb59570627c98",
   "outputs": [
    {
     "data": {
      "text/plain": [
       "(torch.Size([4]), torch.Size([2, 4]))"
      ]
     },
     "execution_count": 68,
     "metadata": {},
     "output_type": "execute_result"
    }
   ],
   "execution_count": 68
  },
  {
   "metadata": {
    "ExecuteTime": {
     "end_time": "2025-09-16T07:07:54.152523Z",
     "start_time": "2025-09-16T07:07:54.149349Z"
    }
   },
   "cell_type": "code",
   "source": "tensor_2d.dim(), tensor_3d.dim()",
   "id": "a8b31e0feca12d3b",
   "outputs": [
    {
     "data": {
      "text/plain": [
       "(2, 3)"
      ]
     },
     "execution_count": 69,
     "metadata": {},
     "output_type": "execute_result"
    }
   ],
   "execution_count": 69
  },
  {
   "metadata": {
    "ExecuteTime": {
     "end_time": "2025-09-16T07:08:29.761306Z",
     "start_time": "2025-09-16T07:08:29.757308Z"
    }
   },
   "cell_type": "code",
   "source": [
    "print(tensor_2d)\n",
    "tensor_2d.numel()"
   ],
   "id": "d229cbe118aeaf26",
   "outputs": [
    {
     "name": "stdout",
     "output_type": "stream",
     "text": [
      "tensor([[ 1.5474, -0.1144, -1.1532,  0.3698],\n",
      "        [-0.0048,  0.6532, -0.9203, -0.4707]])\n"
     ]
    },
    {
     "data": {
      "text/plain": [
       "8"
      ]
     },
     "execution_count": 71,
     "metadata": {},
     "output_type": "execute_result"
    }
   ],
   "execution_count": 71
  },
  {
   "metadata": {
    "ExecuteTime": {
     "end_time": "2025-09-16T07:09:26.723312Z",
     "start_time": "2025-09-16T07:09:26.720138Z"
    }
   },
   "cell_type": "code",
   "source": [
    "print(tensor_2d.T)\n",
    "print(tensor_2d.t())\n",
    "print(tensor_2d.transpose(0, 1))"
   ],
   "id": "e0150fc6276d9bd5",
   "outputs": [
    {
     "name": "stdout",
     "output_type": "stream",
     "text": [
      "tensor([[ 1.5474, -0.0048],\n",
      "        [-0.1144,  0.6532],\n",
      "        [-1.1532, -0.9203],\n",
      "        [ 0.3698, -0.4707]])\n",
      "tensor([[ 1.5474, -0.0048],\n",
      "        [-0.1144,  0.6532],\n",
      "        [-1.1532, -0.9203],\n",
      "        [ 0.3698, -0.4707]])\n",
      "tensor([[ 1.5474, -0.0048],\n",
      "        [-0.1144,  0.6532],\n",
      "        [-1.1532, -0.9203],\n",
      "        [ 0.3698, -0.4707]])\n"
     ]
    }
   ],
   "execution_count": 76
  },
  {
   "metadata": {
    "ExecuteTime": {
     "end_time": "2025-09-16T07:09:52.602201Z",
     "start_time": "2025-09-16T07:09:52.599251Z"
    }
   },
   "cell_type": "code",
   "source": "tensor_2d.itemsize",
   "id": "3000f8c34e1b3929",
   "outputs": [
    {
     "data": {
      "text/plain": [
       "4"
      ]
     },
     "execution_count": 78,
     "metadata": {},
     "output_type": "execute_result"
    }
   ],
   "execution_count": 78
  },
  {
   "metadata": {
    "ExecuteTime": {
     "end_time": "2025-09-16T07:18:39.833055Z",
     "start_time": "2025-09-16T07:18:39.830373Z"
    }
   },
   "cell_type": "code",
   "source": [
    "print(tensor_2d[0, 2])\n",
    "print(tensor_2d[0, 2].item())\n",
    "print(tensor_2d[0, 2].itemsize)\n",
    "print(tensor_2d.tolist())\n",
    "print(tensor_2d.shape)\n",
    "print(tensor_2d.numpy())\n"
   ],
   "id": "5eb0f40ac5425797",
   "outputs": [
    {
     "name": "stdout",
     "output_type": "stream",
     "text": [
      "tensor(-1.1532)\n",
      "-1.1531753540039062\n",
      "4\n",
      "[[1.547359585762024, -0.1144319474697113, -1.1531753540039062, 0.36980316042900085], [-0.004835020750761032, 0.6531780958175659, -0.9203383922576904, -0.47068822383880615]]\n",
      "torch.Size([2, 4])\n",
      "[[ 1.5473596  -0.11443195 -1.1531754   0.36980316]\n",
      " [-0.00483502  0.6531781  -0.9203384  -0.47068822]]\n"
     ]
    }
   ],
   "execution_count": 86
  },
  {
   "metadata": {},
   "cell_type": "code",
   "outputs": [],
   "execution_count": null,
   "source": "",
   "id": "1d159cfc835cc38e"
  }
 ],
 "metadata": {
  "kernelspec": {
   "display_name": "Python 3",
   "language": "python",
   "name": "python3"
  },
  "language_info": {
   "codemirror_mode": {
    "name": "ipython",
    "version": 2
   },
   "file_extension": ".py",
   "mimetype": "text/x-python",
   "name": "python",
   "nbconvert_exporter": "python",
   "pygments_lexer": "ipython2",
   "version": "2.7.6"
  }
 },
 "nbformat": 4,
 "nbformat_minor": 5
}
