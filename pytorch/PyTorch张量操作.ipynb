{
 "cells": [
  {
   "cell_type": "code",
   "id": "initial_id",
   "metadata": {
    "collapsed": true,
    "ExecuteTime": {
     "end_time": "2025-09-16T07:20:57.483097Z",
     "start_time": "2025-09-16T07:20:56.960127Z"
    }
   },
   "source": "import torch",
   "outputs": [],
   "execution_count": 1
  },
  {
   "metadata": {
    "ExecuteTime": {
     "end_time": "2025-09-16T07:25:28.656633Z",
     "start_time": "2025-09-16T07:25:28.651378Z"
    }
   },
   "cell_type": "code",
   "source": [
    "## + - * /\n",
    "\n",
    "x = torch.randn(2, 3)\n",
    "y = torch.randn(2, 3)\n",
    "\n",
    "print(x + 1)\n",
    "print(x * 2)\n",
    "print(x / 2)\n",
    "print(x // 2)\n",
    "print(x % 2)\n",
    "print(x ** 2)\n"
   ],
   "id": "85c8677b705b8bbe",
   "outputs": [
    {
     "name": "stdout",
     "output_type": "stream",
     "text": [
      "tensor([[ 2.1785,  0.7787,  0.1899],\n",
      "        [ 1.4559,  3.0754, -1.1336]])\n",
      "tensor([[ 2.3570, -0.4426, -1.6201],\n",
      "        [ 0.9118,  4.1508, -4.2672]])\n",
      "tensor([[ 0.5892, -0.1107, -0.4050],\n",
      "        [ 0.2279,  1.0377, -1.0668]])\n",
      "tensor([[ 0., -1., -1.],\n",
      "        [ 0.,  1., -2.]])\n",
      "tensor([[1.1785, 1.7787, 1.1899],\n",
      "        [0.4559, 0.0754, 1.8664]])\n",
      "tensor([[1.3888, 0.0490, 0.6562],\n",
      "        [0.2078, 4.3072, 4.5523]])\n"
     ]
    }
   ],
   "execution_count": 16
  },
  {
   "metadata": {
    "ExecuteTime": {
     "end_time": "2025-09-16T07:25:41.268866Z",
     "start_time": "2025-09-16T07:25:41.265178Z"
    }
   },
   "cell_type": "code",
   "source": [
    "print(x + y)\n",
    "print(x - y)"
   ],
   "id": "be2bfc93b5e6eb12",
   "outputs": [
    {
     "name": "stdout",
     "output_type": "stream",
     "text": [
      "tensor([[-0.0792,  0.6597, -1.8564],\n",
      "        [-1.4120,  1.6204, -1.1274]])\n",
      "tensor([[ 2.4362, -1.1023,  0.2363],\n",
      "        [ 2.3238,  2.5304, -3.1398]])\n"
     ]
    }
   ],
   "execution_count": 17
  },
  {
   "metadata": {
    "ExecuteTime": {
     "end_time": "2025-09-16T07:29:04.524750Z",
     "start_time": "2025-09-16T07:29:04.520597Z"
    }
   },
   "cell_type": "code",
   "source": "print(x * y) ## 多维数组点积",
   "id": "ff782b94cdd57cd4",
   "outputs": [
    {
     "name": "stdout",
     "output_type": "stream",
     "text": [
      "tensor([[-1.4821, -0.1950,  0.8476],\n",
      "        [-0.8515, -0.9443, -2.1469]])\n"
     ]
    }
   ],
   "execution_count": 25
  },
  {
   "metadata": {
    "ExecuteTime": {
     "end_time": "2025-09-16T07:28:55.579282Z",
     "start_time": "2025-09-16T07:28:55.576548Z"
    }
   },
   "cell_type": "code",
   "source": [
    "t1 = torch.rand(5)\n",
    "t2 = torch.rand(5)\n",
    "print(t1.dot(t2)) ## 向量点积\n",
    "print(t1 * t2) ## 向量乘法"
   ],
   "id": "542e6d74a6b6b997",
   "outputs": [
    {
     "name": "stdout",
     "output_type": "stream",
     "text": [
      "tensor(1.4817)\n",
      "tensor([0.4403, 0.7613, 0.2226, 0.0534, 0.0041])\n"
     ]
    }
   ],
   "execution_count": 24
  },
  {
   "metadata": {
    "ExecuteTime": {
     "end_time": "2025-09-16T07:31:10.233770Z",
     "start_time": "2025-09-16T07:31:10.229834Z"
    }
   },
   "cell_type": "code",
   "source": [
    "print(x @ y.T) ## 矩阵乘法\n",
    "print(x.matmul(y.T)) ## 矩阵乘法 等价"
   ],
   "id": "d33a4b75143c1e6e",
   "outputs": [
    {
     "name": "stdout",
     "output_type": "stream",
     "text": [
      "tensor([[-0.8295, -2.9157],\n",
      "        [ 3.4877, -3.9427]])\n",
      "tensor([[-0.8295, -2.9157],\n",
      "        [ 3.4877, -3.9427]])\n"
     ]
    }
   ],
   "execution_count": 28
  },
  {
   "metadata": {
    "ExecuteTime": {
     "end_time": "2025-09-16T07:32:17.375754Z",
     "start_time": "2025-09-16T07:32:17.371253Z"
    }
   },
   "cell_type": "code",
   "source": "torch.sum(x), x.sum()",
   "id": "b50c9213ee758ed9",
   "outputs": [
    {
     "data": {
      "text/plain": [
       "(tensor(0.5448), tensor(0.5448))"
      ]
     },
     "execution_count": 30,
     "metadata": {},
     "output_type": "execute_result"
    }
   ],
   "execution_count": 30
  },
  {
   "metadata": {
    "ExecuteTime": {
     "end_time": "2025-09-16T07:32:35.592739Z",
     "start_time": "2025-09-16T07:32:35.588031Z"
    }
   },
   "cell_type": "code",
   "source": "x.mean(), x.std(), x.max(), x.min()",
   "id": "70656b6cb9a5a336",
   "outputs": [
    {
     "data": {
      "text/plain": [
       "(tensor(0.0908), tensor(1.4908), tensor(2.0754), tensor(-2.1336))"
      ]
     },
     "execution_count": 31,
     "metadata": {},
     "output_type": "execute_result"
    }
   ],
   "execution_count": 31
  },
  {
   "metadata": {
    "ExecuteTime": {
     "end_time": "2025-09-16T07:35:21.866062Z",
     "start_time": "2025-09-16T07:35:21.860439Z"
    }
   },
   "cell_type": "code",
   "source": [
    "x = torch.randn(4, 8)\n",
    "print(x)\n",
    "x.argmax(dim=0), x.argmax(dim=1)"
   ],
   "id": "89fdbfdbd5828978",
   "outputs": [
    {
     "name": "stdout",
     "output_type": "stream",
     "text": [
      "tensor([[-0.7515,  1.1541, -0.1996,  0.9855,  1.0936,  1.4017,  1.0355, -1.7407],\n",
      "        [ 0.4392,  0.2108, -0.3594,  0.0281, -1.2477, -2.4945, -0.4699, -0.9193],\n",
      "        [ 1.9439, -1.3838, -1.9861, -0.3584, -0.5671, -0.1157,  1.0791,  0.7713],\n",
      "        [ 1.2859,  0.2801, -0.7650, -0.0260,  2.6776,  0.5064, -0.4770,  0.3957]])\n"
     ]
    },
    {
     "data": {
      "text/plain": [
       "(tensor([2, 0, 0, 0, 3, 0, 2, 2]), tensor([5, 0, 0, 4]))"
      ]
     },
     "execution_count": 42,
     "metadata": {},
     "output_type": "execute_result"
    }
   ],
   "execution_count": 42
  },
  {
   "metadata": {
    "ExecuteTime": {
     "end_time": "2025-09-16T07:35:47.468169Z",
     "start_time": "2025-09-16T07:35:47.463700Z"
    }
   },
   "cell_type": "code",
   "source": "torch.softmax(x, dim=0), torch.softmax(x, dim=1)",
   "id": "e4fd7df80d6c04b7",
   "outputs": [
    {
     "data": {
      "text/plain": [
       "(tensor([[0.0374, 0.5303, 0.3864, 0.4979, 0.1623, 0.6068, 0.4021, 0.0415],\n",
       "         [0.1229, 0.2065, 0.3293, 0.1911, 0.0156, 0.0123, 0.0892, 0.0945],\n",
       "         [0.5533, 0.0419, 0.0647, 0.1299, 0.0308, 0.1330, 0.4200, 0.5122],\n",
       "         [0.2865, 0.2213, 0.2195, 0.1811, 0.7912, 0.2479, 0.0886, 0.3518]]),\n",
       " tensor([[0.0275, 0.1846, 0.0477, 0.1559, 0.1737, 0.2364, 0.1639, 0.0102],\n",
       "         [0.2627, 0.2090, 0.1182, 0.1741, 0.0486, 0.0140, 0.1058, 0.0675],\n",
       "         [0.4773, 0.0171, 0.0094, 0.0477, 0.0388, 0.0609, 0.2010, 0.1478],\n",
       "         [0.1465, 0.0536, 0.0188, 0.0395, 0.5892, 0.0672, 0.0251, 0.0601]]))"
      ]
     },
     "execution_count": 43,
     "metadata": {},
     "output_type": "execute_result"
    }
   ],
   "execution_count": 43
  },
  {
   "metadata": {
    "ExecuteTime": {
     "end_time": "2025-09-16T07:36:37.539194Z",
     "start_time": "2025-09-16T07:36:37.534717Z"
    }
   },
   "cell_type": "code",
   "source": "torch.sum(torch.softmax(x, dim=0), dim=0)",
   "id": "df56ec82d94b719d",
   "outputs": [
    {
     "data": {
      "text/plain": [
       "tensor([1.0000, 1.0000, 1.0000, 1.0000, 1.0000, 1.0000, 1.0000, 1.0000])"
      ]
     },
     "execution_count": 44,
     "metadata": {},
     "output_type": "execute_result"
    }
   ],
   "execution_count": 44
  },
  {
   "metadata": {
    "ExecuteTime": {
     "end_time": "2025-09-16T07:43:19.531249Z",
     "start_time": "2025-09-16T07:43:19.527671Z"
    }
   },
   "cell_type": "code",
   "source": [
    "x = torch.rand(4, 6)\n",
    "print(x)"
   ],
   "id": "4864facb8df63020",
   "outputs": [
    {
     "name": "stdout",
     "output_type": "stream",
     "text": [
      "tensor([[0.9670, 0.3357, 0.8644, 0.6208, 0.9424, 0.4411],\n",
      "        [0.8051, 0.7560, 0.8025, 0.3908, 0.6207, 0.5438],\n",
      "        [0.2756, 0.4879, 0.8958, 0.6889, 0.7119, 0.9294],\n",
      "        [0.6386, 0.5716, 0.4340, 0.3871, 0.9074, 0.3091]])\n"
     ]
    }
   ],
   "execution_count": 57
  },
  {
   "metadata": {
    "ExecuteTime": {
     "end_time": "2025-09-16T07:43:09.047824Z",
     "start_time": "2025-09-16T07:43:09.045153Z"
    }
   },
   "cell_type": "code",
   "source": "print(x.view(12, -1))",
   "id": "82a3ecc1aad68d47",
   "outputs": [
    {
     "name": "stdout",
     "output_type": "stream",
     "text": [
      "tensor([[0.3209, 0.1944],\n",
      "        [0.2006, 0.4661],\n",
      "        [0.6581, 0.1889],\n",
      "        [0.9730, 0.5405],\n",
      "        [0.3410, 0.3508],\n",
      "        [0.0200, 0.4326],\n",
      "        [0.0102, 0.0977],\n",
      "        [0.9022, 0.4762],\n",
      "        [0.7938, 0.1112],\n",
      "        [0.2108, 0.7414],\n",
      "        [0.8996, 0.1698],\n",
      "        [0.3816, 0.8483]])\n"
     ]
    }
   ],
   "execution_count": 56
  },
  {
   "metadata": {
    "ExecuteTime": {
     "end_time": "2025-09-16T07:54:54.588960Z",
     "start_time": "2025-09-16T07:54:54.582994Z"
    }
   },
   "cell_type": "code",
   "source": [
    "# 创建一个连续存储的张量\n",
    "a = torch.arange(12).reshape(3, 4)\n",
    "print(\"原始张量 a:\\n\", a)\n",
    "print(\"是否连续存储:\", a.is_contiguous())\n",
    "\n",
    "# 使用 view 改变形状\n",
    "b = a.view(4, 3)\n",
    "print(\"\\n视图 b:\\n\", b)\n",
    "\n",
    "# 改变视图 b 的数据\n",
    "b[0, 0] = 99\n",
    "print(\"\\n改变 b 后，原始张量 a:\\n\", a)\n",
    "# 输出: 99 也出现在 a 中"
   ],
   "id": "219837300fc2c11e",
   "outputs": [
    {
     "name": "stdout",
     "output_type": "stream",
     "text": [
      "原始张量 a:\n",
      " tensor([[ 0,  1,  2,  3],\n",
      "        [ 4,  5,  6,  7],\n",
      "        [ 8,  9, 10, 11]])\n",
      "是否连续存储: True\n",
      "\n",
      "视图 b:\n",
      " tensor([[ 0,  1,  2],\n",
      "        [ 3,  4,  5],\n",
      "        [ 6,  7,  8],\n",
      "        [ 9, 10, 11]])\n",
      "\n",
      "改变 b 后，原始张量 a:\n",
      " tensor([[99,  1,  2,  3],\n",
      "        [ 4,  5,  6,  7],\n",
      "        [ 8,  9, 10, 11]])\n"
     ]
    }
   ],
   "execution_count": 58
  },
  {
   "metadata": {
    "ExecuteTime": {
     "end_time": "2025-09-16T07:55:57.070784Z",
     "start_time": "2025-09-16T07:55:57.066793Z"
    }
   },
   "cell_type": "code",
   "source": "a.flatten()",
   "id": "3154567072d715af",
   "outputs": [
    {
     "data": {
      "text/plain": [
       "tensor([99,  1,  2,  3,  4,  5,  6,  7,  8,  9, 10, 11])"
      ]
     },
     "execution_count": 59,
     "metadata": {},
     "output_type": "execute_result"
    }
   ],
   "execution_count": 59
  },
  {
   "metadata": {
    "ExecuteTime": {
     "end_time": "2025-09-16T07:56:21.356393Z",
     "start_time": "2025-09-16T07:56:21.353573Z"
    }
   },
   "cell_type": "code",
   "source": "print(a > 3)",
   "id": "9a9f8e5a3894048f",
   "outputs": [
    {
     "name": "stdout",
     "output_type": "stream",
     "text": [
      "tensor([[ True, False, False, False],\n",
      "        [ True,  True,  True,  True],\n",
      "        [ True,  True,  True,  True]])\n"
     ]
    }
   ],
   "execution_count": 61
  },
  {
   "metadata": {
    "ExecuteTime": {
     "end_time": "2025-09-16T07:56:30.806711Z",
     "start_time": "2025-09-16T07:56:30.803825Z"
    }
   },
   "cell_type": "code",
   "source": "print(a[a > 3])",
   "id": "94c9bb1078c05d96",
   "outputs": [
    {
     "name": "stdout",
     "output_type": "stream",
     "text": [
      "tensor([99,  4,  5,  6,  7,  8,  9, 10, 11])\n"
     ]
    }
   ],
   "execution_count": 62
  },
  {
   "metadata": {
    "ExecuteTime": {
     "end_time": "2025-09-16T07:57:03.537985Z",
     "start_time": "2025-09-16T07:57:03.535271Z"
    }
   },
   "cell_type": "code",
   "source": "a.is_contiguous()",
   "id": "7f65ac526d9c9c5f",
   "outputs": [
    {
     "data": {
      "text/plain": [
       "True"
      ]
     },
     "execution_count": 63,
     "metadata": {},
     "output_type": "execute_result"
    }
   ],
   "execution_count": 63
  },
  {
   "metadata": {
    "ExecuteTime": {
     "end_time": "2025-09-16T08:06:05.218271Z",
     "start_time": "2025-09-16T08:06:05.213103Z"
    }
   },
   "cell_type": "code",
   "source": [
    "x = torch.tensor([1, 2, 3, 4])  # shape: [4]\n",
    "print(x.shape)\n",
    "# ====== unsqueeze ======\n",
    "x_unsq = x.unsqueeze(0)         # 在dim=0加一维\n",
    "print(x_unsq.shape)             # torch.Size([1, 4])\n",
    "\n",
    "x_unsq2 = x.unsqueeze(1)        # 在dim=1加一维\n",
    "print(x_unsq2.shape)            # torch.Size([4, 1])\n",
    "\n",
    "# ====== squeeze ======\n",
    "y = torch.randn(1, 4, 1, 3)     # shape: [1, 4, 1, 3]\n",
    "y_sq = y.squeeze()              # 自动去掉所有 size=1 的维度\n",
    "print(y_sq.shape)               # torch.Size([4, 3])\n",
    "\n",
    "y_sq_dim1 = y.squeeze(2)        # 只去掉 dim=2 (如果大小是1)\n",
    "print(y_sq_dim1.shape)          # torch.Size([1, 4, 3])\n"
   ],
   "id": "de23175c38b42602",
   "outputs": [
    {
     "name": "stdout",
     "output_type": "stream",
     "text": [
      "torch.Size([4])\n",
      "torch.Size([1, 4])\n",
      "torch.Size([4, 1])\n",
      "torch.Size([4, 3])\n",
      "torch.Size([1, 4, 3])\n"
     ]
    }
   ],
   "execution_count": 86
  },
  {
   "metadata": {
    "ExecuteTime": {
     "end_time": "2025-09-16T08:12:48.631658Z",
     "start_time": "2025-09-16T08:12:48.628156Z"
    }
   },
   "cell_type": "code",
   "source": [
    "import torch.nn.functional as F\n",
    "\n",
    "input = torch.randn(3, 4)\n",
    "output = F.softmax(input, dim=0)\n",
    "print(output)\n",
    "output = F.relu(input)\n",
    "print(output)\n",
    "output = F.sigmoid(input)\n",
    "print(output)"
   ],
   "id": "a8142260c5938895",
   "outputs": [
    {
     "name": "stdout",
     "output_type": "stream",
     "text": [
      "tensor([[0.7700, 0.0747, 0.3005, 0.4190],\n",
      "        [0.1595, 0.5399, 0.2865, 0.4149],\n",
      "        [0.0706, 0.3854, 0.4130, 0.1661]])\n",
      "tensor([[2.1230, 0.0000, 0.2434, 0.0000],\n",
      "        [0.5484, 0.0000, 0.1957, 0.0000],\n",
      "        [0.0000, 0.0000, 0.5614, 0.0000]])\n",
      "tensor([[0.8931, 0.1064, 0.5605, 0.3844],\n",
      "        [0.6338, 0.4624, 0.5488, 0.3821],\n",
      "        [0.4336, 0.3805, 0.6368, 0.1985]])\n"
     ]
    }
   ],
   "execution_count": 92
  },
  {
   "metadata": {},
   "cell_type": "code",
   "outputs": [],
   "execution_count": null,
   "source": "",
   "id": "70fede334df1d9ff"
  }
 ],
 "metadata": {
  "kernelspec": {
   "display_name": "Python 3",
   "language": "python",
   "name": "python3"
  },
  "language_info": {
   "codemirror_mode": {
    "name": "ipython",
    "version": 2
   },
   "file_extension": ".py",
   "mimetype": "text/x-python",
   "name": "python",
   "nbconvert_exporter": "python",
   "pygments_lexer": "ipython2",
   "version": "2.7.6"
  }
 },
 "nbformat": 4,
 "nbformat_minor": 5
}
