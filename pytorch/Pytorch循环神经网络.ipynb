{
 "cells": [
  {
   "cell_type": "code",
   "id": "initial_id",
   "metadata": {
    "collapsed": true,
    "ExecuteTime": {
     "end_time": "2025-09-22T07:20:11.732940Z",
     "start_time": "2025-09-22T07:20:11.731015Z"
    }
   },
   "source": [
    "import torch\n",
    "import torch.nn as nn\n",
    "from torch.optim import Adam\n",
    "from torch.utils.data import DataLoader, TensorDataset\n",
    "import torch.nn.functional as F"
   ],
   "outputs": [],
   "execution_count": 3
  },
  {
   "metadata": {
    "ExecuteTime": {
     "end_time": "2025-09-22T07:20:12.535729Z",
     "start_time": "2025-09-22T07:20:12.531785Z"
    }
   },
   "cell_type": "code",
   "source": [
    "class SimpleRNN(nn.Module):\n",
    "    def __init__(self, input_size, hidden_size, output_size):\n",
    "        super(SimpleRNN, self).__init__()\n",
    "        self.rnn = nn.RNN(input_size, hidden_size, batch_first=True)\n",
    "        self.fc = nn.Linear(hidden_size, output_size)\n",
    "\n",
    "    def forward(self, x):\n",
    "        # x: (batch_size, seq_len, input_size)\n",
    "        out, _ = self.rnn(x)  # out: (batch_size, seq_len, hidden_size)\n",
    "        # 取序列最后一个时间步的输出作为模型的输出\n",
    "        out = out[:, -1, :]  # (batch_size, hidden_size)\n",
    "        out = self.fc(out)  # 全连接层\n",
    "        return out\n"
   ],
   "id": "ae3888a56501efde",
   "outputs": [],
   "execution_count": 4
  },
  {
   "metadata": {
    "ExecuteTime": {
     "end_time": "2025-09-22T07:24:31.023395Z",
     "start_time": "2025-09-22T07:24:30.961736Z"
    }
   },
   "cell_type": "code",
   "source": [
    "import torch\n",
    "import torch.nn as nn\n",
    "import torch.optim as optim\n",
    "import matplotlib.pyplot as plt\n",
    "import numpy as np\n",
    "\n",
    "# 数据集：字符序列预测（Hello -> Elloh）\n",
    "char_set = list(\"hello\")\n",
    "char_to_idx = {c: i for i, c in enumerate(char_set)}\n",
    "idx_to_char = {i: c for i, c in enumerate(char_set)}\n",
    "\n",
    "print(f\"char_to_idx: {char_to_idx}\")\n",
    "print(f\"idx_to_char: {idx_to_char}\")\n",
    "\n",
    "# 数据准备\n",
    "input_str = \"hello\"\n",
    "target_str = \"elloh\"\n",
    "input_data = [char_to_idx[c] for c in input_str]\n",
    "target_data = [char_to_idx[c] for c in target_str]\n",
    "\n",
    "print(f\"input_data: {input_data}\")\n",
    "print(f\"target_data: {target_data}\")\n",
    "\n",
    "# 转换为独热编码\n",
    "input_one_hot = np.eye(len(char_set))[input_data]\n",
    "\n",
    "# 转换为 PyTorch Tensor\n",
    "inputs = torch.tensor(input_one_hot, dtype=torch.float32)\n",
    "targets = torch.tensor(target_data, dtype=torch.long)\n",
    "\n",
    "# 模型超参数\n",
    "input_size = len(char_set)\n",
    "hidden_size = 8\n",
    "output_size = len(char_set)\n",
    "num_epochs = 200\n",
    "learning_rate = 0.1\n",
    "\n",
    "# 定义 RNN 模型\n",
    "class RNNModel(nn.Module):\n",
    "    def __init__(self, input_size, hidden_size, output_size):\n",
    "        super(RNNModel, self).__init__()\n",
    "        self.rnn = nn.RNN(input_size, hidden_size, batch_first=True)\n",
    "        self.fc = nn.Linear(hidden_size, output_size)\n",
    "\n",
    "    def forward(self, x, hidden):\n",
    "        out, hidden = self.rnn(x, hidden)\n",
    "        out = self.fc(out)  # 应用全连接层\n",
    "        return out, hidden\n",
    "\n",
    "model = RNNModel(input_size, hidden_size, output_size)\n",
    "\n",
    "# 定义损失函数和优化器\n",
    "criterion = nn.CrossEntropyLoss()\n",
    "optimizer = optim.Adam(model.parameters(), lr=learning_rate)\n",
    "\n",
    "# 训练 RNN\n",
    "losses = []\n",
    "hidden = None  # 初始隐藏状态为 None\n",
    "for epoch in range(num_epochs):\n",
    "    optimizer.zero_grad()\n",
    "\n",
    "    # 前向传播\n",
    "    outputs, hidden = model(inputs.unsqueeze(0), hidden)\n",
    "    hidden = hidden.detach()  # 防止梯度爆炸\n",
    "\n",
    "    # 计算损失\n",
    "    loss = criterion(outputs.view(-1, output_size), targets)\n",
    "    loss.backward()\n",
    "    optimizer.step()\n",
    "    losses.append(loss.item())\n",
    "\n",
    "    if (epoch + 1) % 20 == 0:\n",
    "        print(f\"Epoch [{epoch + 1}/{num_epochs}], Loss: {loss.item():.4f}\")\n",
    "\n",
    "# 测试 RNN\n",
    "with torch.no_grad():\n",
    "    test_hidden = None\n",
    "    test_output, _ = model(inputs.unsqueeze(0), test_hidden)\n",
    "    predicted = torch.argmax(test_output, dim=2).squeeze().numpy()\n",
    "\n",
    "    print(\"Input sequence: \", ''.join([idx_to_char[i] for i in input_data]))\n",
    "    print(\"Predicted sequence: \", ''.join([idx_to_char[i] for i in predicted]))"
   ],
   "id": "66203b021c38b508",
   "outputs": [
    {
     "name": "stdout",
     "output_type": "stream",
     "text": [
      "char_to_idx: {'h': 0, 'e': 1, 'l': 3, 'o': 4}\n",
      "idx_to_char: {0: 'h', 1: 'e', 2: 'l', 3: 'l', 4: 'o'}\n",
      "input_data: [0, 1, 3, 3, 4]\n",
      "target_data: [1, 3, 3, 4, 0]\n",
      "Epoch [20/200], Loss: 0.0093\n",
      "Epoch [40/200], Loss: 0.0010\n",
      "Epoch [60/200], Loss: 0.0005\n",
      "Epoch [80/200], Loss: 0.0004\n",
      "Epoch [100/200], Loss: 0.0003\n",
      "Epoch [120/200], Loss: 0.0003\n",
      "Epoch [140/200], Loss: 0.0003\n",
      "Epoch [160/200], Loss: 0.0002\n",
      "Epoch [180/200], Loss: 0.0002\n",
      "Epoch [200/200], Loss: 0.0002\n",
      "Input sequence:  hello\n",
      "Predicted sequence:  elloh\n"
     ]
    }
   ],
   "execution_count": 13
  },
  {
   "metadata": {},
   "cell_type": "code",
   "outputs": [],
   "execution_count": null,
   "source": "",
   "id": "18d18fa5026e3faa"
  },
  {
   "metadata": {},
   "cell_type": "code",
   "outputs": [],
   "execution_count": null,
   "source": "",
   "id": "a197f85107207d64"
  },
  {
   "metadata": {
    "ExecuteTime": {
     "end_time": "2025-09-22T07:58:44.967557Z",
     "start_time": "2025-09-22T07:58:44.956163Z"
    }
   },
   "cell_type": "code",
   "source": [
    "import torch\n",
    "import torch.nn as nn\n",
    "\n",
    "# 假设有一个词表大小 1000，每个词用 5 维向量表示\n",
    "vocab_size = 1000\n",
    "embedding_dim = 5\n",
    "hidden_size = 16\n",
    "seq_len = 10\n",
    "batch_size = 32\n",
    "\n",
    "# 1. 词嵌入层：把词ID转换成向量\n",
    "embedding = nn.Embedding(num_embeddings=vocab_size, embedding_dim=embedding_dim)\n",
    "\n",
    "# 2. RNN层：处理序列\n",
    "rnn = nn.RNN(input_size=embedding_dim, hidden_size=hidden_size, batch_first=True)\n",
    "\n",
    "# 3. 输出层：把RNN输出的隐藏状态映射回词表大小，得到每个词的预测概率\n",
    "fc = nn.Linear(hidden_size, vocab_size)\n",
    "\n",
    "# === 模拟输入：32个句子，每句10个词，用词ID表示 ===\n",
    "# 随机生成词ID，每个ID范围在 [0, vocab_size-1]\n",
    "x = torch.randint(low=0, high=vocab_size, size=(batch_size, seq_len))  # [32, 10]\n",
    "\n",
    "print(\"原始词ID形状:\", x.shape)\n",
    "\n",
    "# 1. 词ID -> 词向量\n",
    "x_embed = embedding(x)  # [32, 10, 5]\n",
    "print(\"词向量形状:\", x_embed.shape)\n",
    "\n",
    "# 2. 输入RNN\n",
    "output, h_n = rnn(x_embed)  # output: [32, 10, 16]\n",
    "print(\"RNN输出形状:\", output.shape)\n",
    "\n",
    "# 3. 预测下一个词：对每个时间步的输出都预测\n",
    "logits = fc(output)  # [32, 10, 1000]\n",
    "print(\"logits形状:\", logits.shape)\n",
    "\n",
    "# 4. 转成概率分布\n",
    "probs = torch.softmax(logits, dim=-1)  # [32, 10, 1000]\n",
    "print(\"预测概率分布形状:\", probs.shape)\n",
    "\n",
    "# 如果只预测最后一个时间步的下一个词，可以取 output[:, -1, :]\n",
    "last_logits = fc(output[:, -1, :])  # [32, 1000]\n",
    "last_probs = torch.softmax(last_logits, dim=-1)\n",
    "print(\"最后一个词的预测概率分布形状:\", last_probs.shape)\n"
   ],
   "id": "902ae79be51ac72c",
   "outputs": [
    {
     "name": "stdout",
     "output_type": "stream",
     "text": [
      "原始词ID形状: torch.Size([32, 10])\n",
      "词向量形状: torch.Size([32, 10, 5])\n",
      "RNN输出形状: torch.Size([32, 10, 16])\n",
      "logits形状: torch.Size([32, 10, 1000])\n",
      "预测概率分布形状: torch.Size([32, 10, 1000])\n",
      "最后一个词的预测概率分布形状: torch.Size([32, 1000])\n"
     ]
    }
   ],
   "execution_count": 14
  },
  {
   "metadata": {},
   "cell_type": "code",
   "outputs": [],
   "execution_count": null,
   "source": "",
   "id": "7cfb87bc7ae3cc4d"
  },
  {
   "metadata": {},
   "cell_type": "markdown",
   "source": "## 图像增强",
   "id": "fcc1ea6d7b377aaa"
  },
  {
   "metadata": {
    "ExecuteTime": {
     "end_time": "2025-09-22T08:11:48.681307Z",
     "start_time": "2025-09-22T08:11:48.392620Z"
    }
   },
   "cell_type": "code",
   "source": [
    "import matplotlib.pyplot as plt\n",
    "from torchvision import datasets\n",
    "from torchvision import datasets, transforms\n",
    "\n",
    "\n",
    "# 原始和增强后的图像可视化\n",
    "transform_augment = transforms.Compose([\n",
    "    transforms.RandomHorizontalFlip(),\n",
    "    transforms.RandomRotation(30),\n",
    "    transforms.ToTensor()\n",
    "])\n",
    "\n",
    "# 加载数据集\n",
    "dataset = datasets.MNIST(root='./data', train=True, download=True, transform=transform_augment)\n",
    "\n",
    "# 显示图像\n",
    "def show_images(dataset):\n",
    "    fig, axs = plt.subplots(1, 5, figsize=(15, 5))\n",
    "    for i in range(5):\n",
    "        image, label = dataset[i]\n",
    "        axs[i].imshow(image.squeeze(0), cmap='gray')  # 将 (1, H, W) 转为 (H, W)\n",
    "        axs[i].set_title(f\"Label: {label}\")\n",
    "        axs[i].axis('off')\n",
    "    plt.show()\n",
    "\n",
    "show_images(dataset)"
   ],
   "id": "4d7c589328ec3028",
   "outputs": [
    {
     "data": {
      "text/plain": [
       "<Figure size 1500x500 with 5 Axes>"
      ],
      "image/png": "[encoded data removed]"
     },
     "metadata": {},
     "output_type": "display_data"
    }
   ],
   "execution_count": 15
  },
  {
   "metadata": {},
   "cell_type": "code",
   "outputs": [],
   "execution_count": null,
   "source": "",
   "id": "c79c6cde77dbd6d5"
  }
 ],
 "metadata": {
  "kernelspec": {
   "display_name": "Python 3",
   "language": "python",
   "name": "python3"
  },
  "language_info": {
   "codemirror_mode": {
    "name": "ipython",
    "version": 2
   },
   "file_extension": ".py",
   "mimetype": "text/x-python",
   "name": "python",
   "nbconvert_exporter": "python",
   "pygments_lexer": "ipython2",
   "version": "2.7.6"
  }
 },
 "nbformat": 4,
 "nbformat_minor": 5
}
